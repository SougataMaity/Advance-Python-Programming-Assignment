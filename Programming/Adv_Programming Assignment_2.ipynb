{
 "cells": [
  {
   "cell_type": "code",
   "execution_count": 4,
   "id": "83f86eba",
   "metadata": {},
   "outputs": [
    {
     "name": "stdout",
     "output_type": "stream",
     "text": [
      "pentagon(1) => 1\n",
      "pentagon(2) => 6\n",
      "pentagon(3) => 16\n",
      "pentagon(8) => 141\n"
     ]
    }
   ],
   "source": [
    "'''Q.1 Write a fuinction that takes a positive integer num and calculates how many\n",
    "dots exist in a pentagonal shape around the center dot on the Nth iteration.\n",
    "\n",
    "1st iteration - 1 dots\n",
    "2nd iteration - 6 dots\n",
    "3rd iteration - 16 dots\n",
    "4th iteration - 31 dots\n",
    "'''\n",
    "\n",
    "def pentagonal(n):\n",
    "    \n",
    "    '''\n",
    "    problem : Count Pentagon Center dots\n",
    "    Equation : (5*n**2 - 5*n + 2)/2\n",
    "    '''\n",
    "    pen = (5*n**2 - 5*n + 2)/2\n",
    "    return f'pentagon({n}) => {int(pen)}'\n",
    "\n",
    "print(pentagonal(1))\n",
    "print(pentagonal(2))\n",
    "print(pentagonal(3))\n",
    "print(pentagonal(8))"
   ]
  },
  {
   "cell_type": "code",
   "execution_count": 56,
   "id": "a8d30f32",
   "metadata": {},
   "outputs": [
    {
     "name": "stdout",
     "output_type": "stream",
     "text": [
      "apple : 1lpp0aca\n",
      "banana : 0n0n0baca\n",
      "kareaca : 0c0r0kaca\n",
      "burak : k0r4baca\n",
      "alpaca : 0c0pl0aca\n"
     ]
    }
   ],
   "source": [
    "'''Q.2 \n",
    "Make a function that encrypts a given input with these steps \n",
    "Input : 'apple'\n",
    "Step1 : Reverse the input 'elppa'\n",
    "Step2 : Replace all vowels using the following chat\n",
    "        a => 0, e => 1, i => 2, o => 3, u => 4\n",
    "Step3 : Add 'aca' to the end of woard then the result '1lpp0aca'\n",
    "'''\n",
    "def encrypt(str1):\n",
    "    \n",
    "    rstr = str1[::-1]\n",
    "    vowle = 'aeiou'\n",
    "    end = 'aca'\n",
    "    res = ''\n",
    "    for i in rstr:\n",
    "        if i in vowle:\n",
    "            res = res + str(vowle.index(i))\n",
    "        else:\n",
    "            res = res + i\n",
    "    return res + end\n",
    "\n",
    "print('apple',':' ,encrypt('apple'))\n",
    "print('banana', ':', encrypt('banana'))\n",
    "print('kareaca', ':', encrypt('karaca'))\n",
    "print('burak', ':', encrypt('burak'))\n",
    "print('alpaca', ':', encrypt('alpaca'))"
   ]
  },
  {
   "cell_type": "code",
   "execution_count": 5,
   "id": "e1831435",
   "metadata": {},
   "outputs": [
    {
     "name": "stdout",
     "output_type": "stream",
     "text": [
      "has_friday_13(3,2020) => True\n",
      "has_friday_13(10,2017) => True\n",
      "has_friday_13(1,1985) => False\n"
     ]
    }
   ],
   "source": [
    "'''Q.3 Given the month and the year as numbers, return whether that month contains a Friday 13th'''\n",
    "\n",
    "import datetime as dt\n",
    "\n",
    "def has_friday_13(month, year):\n",
    "    date = dt.date(year, month, 13)\n",
    "    return f'has_friday_13({month},{year}) => {date.strftime(\"%A\") == \"Friday\"}'\n",
    "\n",
    "print(has_friday_13(3,2020))\n",
    "print(has_friday_13(10,2017))\n",
    "print(has_friday_13(1,1985))"
   ]
  },
  {
   "cell_type": "code",
   "execution_count": 7,
   "id": "4232f84d",
   "metadata": {},
   "outputs": [
    {
     "data": {
      "text/plain": [
       "2"
      ]
     },
     "execution_count": 7,
     "metadata": {},
     "output_type": "execute_result"
    }
   ],
   "source": [
    "'''Q.4 Write a regular expression that will help us count how many bad cookies are produced every day.\n",
    "We must have use RegEx negative lookbehind'''\n",
    "\n",
    "import re\n",
    "lst = [\"bad cookie\",\"good cookie\",\"bad cookie\",\"good cookie\",\"good cookie\"]\n",
    "pattern = 'bad cookie'\n",
    "\n",
    "len (re.findall(pattern, \",\".join(lst)))"
   ]
  },
  {
   "cell_type": "code",
   "execution_count": 6,
   "id": "ea7ae75b",
   "metadata": {},
   "outputs": [
    {
     "name": "stdout",
     "output_type": "stream",
     "text": [
      "['cow', 'pig', 'cow', 'cow'] => pluralize(['cow', 'pig', 'cow', 'cow']) => {'cows', 'pig'}\n",
      "['table', 'table', 'table'] => pluralize(['table', 'table', 'table']) => {'tables'}\n",
      "['chair', 'pencil', 'arm'] => pluralize(['chair', 'pencil', 'arm']) => {'arm', 'pencil', 'chair'}\n"
     ]
    }
   ],
   "source": [
    "'''Q.5 Given a list of words in the singular form, return a set of those words in the plural form \n",
    "if they appear more than once in the list'''\n",
    "\n",
    "def pluralize(list1):\n",
    "    '''ist of words in the singular form, return a set of those words in the plural form \n",
    "    if they appear more than once in the list'''\n",
    "    \n",
    "    list2 = []\n",
    "    for i in list1:\n",
    "        if list1.count(i) >1:\n",
    "            list2.append(i + 's')\n",
    "\n",
    "        else:\n",
    "            list2.append(i)\n",
    "\n",
    "    return f'pluralize({list1}) => {set(list2)}' \n",
    "\n",
    "print(\"['cow', 'pig', 'cow', 'cow'] =>\", pluralize(['cow', 'pig', 'cow', 'cow']))\n",
    "print(\"['table', 'table', 'table'] =>\", pluralize(['table', 'table', 'table']))\n",
    "print(\"['chair', 'pencil', 'arm'] =>\", pluralize(['chair', 'pencil', 'arm']))"
   ]
  },
  {
   "cell_type": "code",
   "execution_count": null,
   "id": "7a61d179",
   "metadata": {},
   "outputs": [],
   "source": []
  }
 ],
 "metadata": {
  "kernelspec": {
   "display_name": "Python 3",
   "language": "python",
   "name": "python3"
  },
  "language_info": {
   "codemirror_mode": {
    "name": "ipython",
    "version": 3
   },
   "file_extension": ".py",
   "mimetype": "text/x-python",
   "name": "python",
   "nbconvert_exporter": "python",
   "pygments_lexer": "ipython3",
   "version": "3.8.8"
  }
 },
 "nbformat": 4,
 "nbformat_minor": 5
}
