{
 "cells": [
  {
   "cell_type": "code",
   "execution_count": 114,
   "id": "12c44e34",
   "metadata": {},
   "outputs": [
    {
     "name": "stdout",
     "output_type": "stream",
     "text": [
      "playback_duration(00:30:00,2) => 0:15:00\n",
      "playback_duration(01:20:00,1.5) => 0:53:20\n",
      "playback_duration(51:20:09,0.5) => 102:40:18\n"
     ]
    }
   ],
   "source": [
    "'''Q.1 YouTube offers different playback speed options for users. This allows users to increase or decrease the speed \n",
    "of the video content. Given the actual duration and playback speed of the video, calculate the playback\n",
    "duration of the video.'''\n",
    "\n",
    "def playback_duration(time,speed):\n",
    "    '''playback duration of a youtube video'''\n",
    "    \n",
    "    list1 = []\n",
    "    for i in time.split(':'):\n",
    "        list1.append(i)\n",
    "        \n",
    "    seconds = int(list1[0])*3600 + int(list1[1])*60 + int(list1[2])\n",
    "    min, sec = divmod(seconds/speed, 60)\n",
    "    hour, min = divmod(min, 60)\n",
    "    time_ = \"%d:%02d:%02d\" % (hour, min, sec)\n",
    "            \n",
    "    return f'playback_duration({time},{speed}) => {time_}'\n",
    "\n",
    "print(playback_duration('00:30:00',2))\n",
    "print(playback_duration('01:20:00',1.5))\n",
    "print(playback_duration('51:20:09',0.5))"
   ]
  },
  {
   "cell_type": "code",
   "execution_count": 58,
   "id": "0447a58c",
   "metadata": {},
   "outputs": [
    {
     "name": "stdout",
     "output_type": "stream",
     "text": [
      "pile_of_cubes(1071225) => 45\n",
      "pile_of_cubes(4183059834009) => 2022\n",
      "pile_of_cubes(16) => None\n"
     ]
    }
   ],
   "source": [
    "'''Q.2 We needs your help to construct a building which will be a pile of n cubes. The cube at the bottom will have a \n",
    "volume of n^3, the cube above will have volume of (n-1)^3 and so on until the top which will have a volume of 1^3.\n",
    "Given the total volume m of the building, can you find the number of cubes n required for the building?\n",
    "In other words, you have to return an integer n such that: n^3 + (n-1)^3 + ... + 1^3 == m\n",
    "Return None if there is no such number.'''\n",
    "\n",
    "def pile_of_cubes(m):\n",
    "    \n",
    "    total = 0\n",
    "    n = 0\n",
    "    while (total < m):\n",
    "        n = n + 1\n",
    "        total = total + n ** 3\n",
    "    \n",
    "    if total == m:\n",
    "        result = n\n",
    "    else:\n",
    "        result = 'None'\n",
    "    \n",
    "    return f'pile_of_cubes({m}) => {result}'\n",
    "         \n",
    "print(pile_of_cubes(1071225))\n",
    "print(pile_of_cubes(4183059834009))\n",
    "print(pile_of_cubes(16))"
   ]
  },
  {
   "cell_type": "code",
   "execution_count": 47,
   "id": "906c2725",
   "metadata": {},
   "outputs": [
    {
     "name": "stdout",
     "output_type": "stream",
     "text": [
      "find_fulcrum([3, 1, 5, 2, 4, 6, -1]) => 2\n",
      "find_fulcrum([1, 2, 4, 9, 10, -10, -9, 3]) => 4\n",
      "find_fulcrum([9, 1, 9]) => 1\n",
      "find_fulcrum([7, -1, 0, -1, 1, 1, 2, 3]) => 0\n",
      "find_fulcrum([8, 8, 8, 8]) => -1\n"
     ]
    }
   ],
   "source": [
    "'''Q.3 A fulcrum of a list is an integer such that all elements to the left of it and all elements to the right of it \n",
    "sum to the same value. Write a function that finds the fulcrum of a list.'''\n",
    "\n",
    "def find_fulcrum(list1):\n",
    "    '''fulcrum of a list'''\n",
    "    \n",
    "    cheack = list1.count(list1[0]) == len(list1)\n",
    "    if (cheack):\n",
    "        return f'find_fulcrum({list1}) => {-1}'\n",
    "    else:\n",
    "        cumulative_greater = []\n",
    "        f_sum = 0\n",
    "        for i in list1:\n",
    "            f_sum = f_sum + i\n",
    "            cumulative_greater.append(f_sum)\n",
    "\n",
    "        cumulative_less = []\n",
    "        b_sum = 0\n",
    "        for j in list1[::-1]:\n",
    "            b_sum = b_sum + j\n",
    "            cumulative_less.append(b_sum)\n",
    "        cumulative_less = cumulative_less[::-1]\n",
    "\n",
    "        count = -1\n",
    "        for i in range(len(list1)):\n",
    "            count += 1\n",
    "            if cumulative_greater[i] == cumulative_less[i]:\n",
    "                break\n",
    "        result = list1[count]\n",
    "\n",
    "    return f'find_fulcrum({list1}) => {result}'\n",
    "\n",
    "print(find_fulcrum([3,1,5,2,4,6,-1]))\n",
    "print(find_fulcrum([1,2,4,9,10,-10,-9,3]))\n",
    "print(find_fulcrum([9,1,9]))\n",
    "print(find_fulcrum([7,-1,0,-1,1,1,2,3]))\n",
    "print(find_fulcrum([8,8,8,8]))\n"
   ]
  },
  {
   "cell_type": "code",
   "execution_count": 115,
   "id": "bbeabc6f",
   "metadata": {},
   "outputs": [
    {
     "name": "stdout",
     "output_type": "stream",
     "text": [
      "sock_merchant[10, 20, 20, 10, 10, 30, 50, 10, 20] ----> 3 number of pairs\n",
      "sock_merchant[50, 20, 30, 90, 30, 20, 50, 20, 90] ----> 4 number of pairs\n"
     ]
    }
   ],
   "source": [
    "'''Q.4 Given a list of integers representing the color of each sock, determine how many pairs of socks with matching colors \n",
    "there are. For example, there are 7 socks with colors [1, 2, 1, 2, 1, 3, 2]. There is one pair of color 1 and one of color 2. \n",
    "There are three odd socks left, one of each color. The number of pairs is 2.\n",
    "Create a function that returns an integer representing the number of matching pairs of socks that are available.'''\n",
    "\n",
    "def sock_merchant(list1):\n",
    "    '''returns an integer representing the number of matching pairs of socks that are available'''\n",
    "    \n",
    "    marchant = []\n",
    "    for i in list1:\n",
    "        if list1.count(i) >= 2:\n",
    "            marchant.append(i)\n",
    "    result = int(len(marchant)/2)\n",
    "    return f'sock_merchant{list1} ----> {result} number of pairs'\n",
    "\n",
    "list1 = [10, 20, 20, 10, 10, 30, 50, 10, 20]\n",
    "print(sock_merchant(list1))\n",
    "\n",
    "list1 = [50, 20, 30, 90, 30, 20, 50, 20, 90]\n",
    "print(sock_merchant(list1))\n"
   ]
  },
  {
   "cell_type": "code",
   "execution_count": 47,
   "id": "0d168554",
   "metadata": {},
   "outputs": [
    {
     "name": "stdout",
     "output_type": "stream",
     "text": [
      "Negative integers :  -12\n",
      "Negative integers :  -11\n",
      "Sum of this negative integers : -23\n",
      "\n",
      "\n",
      "Negative integers :  -11\n",
      "Negative integers :  -22\n",
      "Sum of this negative integers : -33\n"
     ]
    }
   ],
   "source": [
    "'''Q.5 Create a function that takes a string containing integers as well as other characters and return the sum of the \n",
    "negative integers only.'''\n",
    "\n",
    "import re\n",
    "def negative_sum(string):\n",
    "    '''A string containing integers as well as other characters and return the sum of the negative integers only.'''\n",
    "    \n",
    "    data = re.split('[%,&, ,@,#,$]', string)\n",
    "    sum = 0\n",
    "    for i in data:\n",
    "        if int(i) < 0 :\n",
    "            sum = sum + int(i)\n",
    "            print('Negative integers : ',int(i))\n",
    "            \n",
    "    return f'Sum of this negative integers : {sum}'\n",
    "\n",
    "print(negative_sum('-12 13%14&-11'))\n",
    "print('\\n')\n",
    "print(negative_sum('22 13%14&-11 -22 13 12'))"
   ]
  }
 ],
 "metadata": {
  "kernelspec": {
   "display_name": "Python 3",
   "language": "python",
   "name": "python3"
  },
  "language_info": {
   "codemirror_mode": {
    "name": "ipython",
    "version": 3
   },
   "file_extension": ".py",
   "mimetype": "text/x-python",
   "name": "python",
   "nbconvert_exporter": "python",
   "pygments_lexer": "ipython3",
   "version": "3.8.8"
  }
 },
 "nbformat": 4,
 "nbformat_minor": 5
}
