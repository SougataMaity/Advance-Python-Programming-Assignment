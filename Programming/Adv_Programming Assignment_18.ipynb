{
 "cells": [
  {
   "cell_type": "code",
   "execution_count": 142,
   "id": "36e5fa49",
   "metadata": {},
   "outputs": [
    {
     "name": "stdout",
     "output_type": "stream",
     "text": [
      "['down 10', 'left 30', 'right 10', 'up 50'] ----> [-20, 40]\n",
      "['right 100', 'right 100', 'up 10000', 'up 500'] ----> [200, 10500]\n",
      "[] ----> [0, 0]\n"
     ]
    }
   ],
   "source": [
    "'''Q.1 A robot has been given a list of movement instructions. Each instruction is either left, right, up or down, \n",
    "followed by a distance to move. The robot starts at [0, 0]. You want to calculate where the robot will end up and \n",
    "return its final position as a list.'''\n",
    "\n",
    "\n",
    "def track_robat(list1):\n",
    "    '''Calculate the robot will end up and return its final position as a list'''\n",
    "    \n",
    "    list1 = sorted(list1)\n",
    "    list2 = []\n",
    "    for i in list1:\n",
    "        list2.append(i.split(' '))\n",
    "    \n",
    "    if list2 == []:\n",
    "        res = [0,0]\n",
    "\n",
    "    list3 = []\n",
    "    for i in list2:\n",
    "        list3.append(i[0])\n",
    "        \n",
    "        if list3.count('right') == 1:\n",
    "            res = [int(list2[2][1]) - int(list2[1][1]), int(list2[3][1]) - int(list2[0][1])]\n",
    "        \n",
    "        elif list3.count('right') == 2:\n",
    "            res = [int(list2[0][1]) + int(list2[1][1]), int(list2[2][1]) + int(list2[3][1])]\n",
    "\n",
    "                \n",
    "    return f'{list1} ----> {res}'\n",
    "\n",
    "print(track_robat(['right 10', 'up 50', 'left 30', 'down 10']))\n",
    "print(track_robat(['right 100', 'right 100', 'up 500', 'up 10000']))\n",
    "print(track_robat([]))"
   ]
  },
  {
   "cell_type": "code",
   "execution_count": 200,
   "id": "04fd6842",
   "metadata": {},
   "outputs": [
    {
     "name": "stdout",
     "output_type": "stream",
     "text": [
      "A thing of beauty is a joy forever ----> forever\n",
      "Forgetfulness is by all means powerless ----> Forgetfulness\n",
      "\"Strengths\" is the longest and most commonly used word that contains only a single vowel ----> \"Strengths\"\n"
     ]
    }
   ],
   "source": [
    "'''Q.2 Write a function that will return the longest word in a sentence. In cases where more than one word is found, \n",
    "return the first one.'''\n",
    "\n",
    "def find_longest(string):\n",
    "    ''' Return longest word in a sentence'''\n",
    "    \n",
    "    list1 = []\n",
    "    list2 = []\n",
    "    for i in string.split(' '):\n",
    "        list1.append([i,len(i)])\n",
    "        list2.append(len(i))\n",
    "        \n",
    "    for k in list1:\n",
    "        if k[1] == max(list2):\n",
    "            result = k[0]\n",
    "    \n",
    "    return f'{string} ----> {result}'\n",
    "        \n",
    "print(find_longest('A thing of beauty is a joy forever'))\n",
    "print(find_longest('Forgetfulness is by all means powerless'))\n",
    "print(find_longest('\\\"Strengths\\\" is the longest and most commonly used word that contains only a single vowel'))"
   ]
  },
  {
   "cell_type": "code",
   "execution_count": 237,
   "id": "52e6265d",
   "metadata": {},
   "outputs": [
    {
     "name": "stdout",
     "output_type": "stream",
     "text": [
      "([5, 5, 10, 10, 15, 15, 20, 20],120) ------> qualified\n",
      "([2, 3, 8, 6, 5, 12, 10, 18],64) ------> qualified\n",
      "([5, 5, 10, 10, 25, 15, 20, 20],120) ------> disqualified\n",
      "([5, 5, 10, 10, 15, 15, 20],120) ------> disqualified\n",
      "([5, 5, 10, 10, 15, 15, 20, 20],130) ------> disqualified\n"
     ]
    }
   ],
   "source": [
    "'''Q.3 Create a function to check if a candidate is qualified in an imaginary coding interview of an imaginary tech startup.\n",
    "\n",
    "The criteria for a candidate to be qualified in the coding interview is:\n",
    "1. The candidate should have complete all the questions.\n",
    "2. The maximum time given to complete the interview is 120 minutes.\n",
    "3. The maximum time given for very easy questions is 5 minutes each.\n",
    "4. The maximum time given for easy questions is 10 minutes each.\n",
    "5. The maximum time given for medium questions is 15 minutes each.\n",
    "6. The maximum time given for hard questions is 20 minutes each.\n",
    "\n",
    "If all the above conditions are satisfied, return 'qualified', else return 'disqualified'.\n",
    "You will be given a list of time taken by a candidate to solve a particular question and the total time taken by the \n",
    "candidate to complete the interview. Given a list , in a true condition will always be in the format [very easy, very\n",
    "easy, easy, easy, medium, medium, hard, hard]. The maximum time to complete the interview includes a buffer time of 20 minutes.'''\n",
    "\n",
    "def interview(list1, n):\n",
    "    '''Return qualified or disqualified given condition'''\n",
    "    \n",
    "    result = 'qualified'\n",
    "    if n >120:\n",
    "        result =  'disqualified'\n",
    "    if len(list1) != 8:\n",
    "        result =  'disqualified'\n",
    "    \n",
    "    for i in list1:\n",
    "        if i>20:\n",
    "            result = 'disqualified'\n",
    "    \n",
    "    return f'({list1},{n}) ------> {result}'\n",
    "        \n",
    "print(interview([5, 5, 10, 10, 15, 15, 20, 20], 120) )\n",
    "print(interview([2, 3, 8, 6, 5, 12, 10, 18], 64) )\n",
    "print(interview([5, 5, 10, 10, 25, 15, 20, 20], 120))\n",
    "print(interview([5, 5, 10, 10, 15, 15, 20], 120))\n",
    "print(interview([5, 5, 10, 10, 15, 15, 20, 20], 130))"
   ]
  },
  {
   "cell_type": "code",
   "execution_count": 22,
   "id": "aa9ee17c",
   "metadata": {},
   "outputs": [
    {
     "name": "stdout",
     "output_type": "stream",
     "text": [
      "[[2], [3], [4], [5], [6], [7]]\n",
      "[[2], [3], [4], [5], [6], [7]]\n",
      "[[2], [3], [4], [5], [6], [7]]\n",
      "[[2, 3], [4, 5], [6, 7]]\n"
     ]
    }
   ],
   "source": [
    "'''Q.4 Write a function that divides a list into chunks of size n, where n is the length of each chunk.'''\n",
    "\n",
    "def chunkify(list1, n):\n",
    "    '''Yield successive n-sized chunks from list1'''\n",
    "    \n",
    "    for i in range(0, len(list1), n):\n",
    "        yield list1[i:i + n]\n",
    "\n",
    "print(list(chunkify([2,3,4,5,6,7],1)))\n",
    "print(list(chunkify([2,3,4,5,6,7],1)))\n",
    "print(list(chunkify([2,3,4,5,6,7],1)))\n",
    "print(list(chunkify([2,3,4,5,6,7],2)))"
   ]
  },
  {
   "cell_type": "code",
   "execution_count": 102,
   "id": "d5b9c7b4",
   "metadata": {},
   "outputs": [
    {
     "name": "stdout",
     "output_type": "stream",
     "text": [
      "['salad ($4.99)'] ----> [4.99]\n",
      "['artichokes ($1.99)', 'rotiserrie chiken ($5.99)', 'gum ($0.75)'] ----> [1.99, 5.99, 0.75]\n",
      "['ice cream ($5.99)', 'banana ($0.20)', 'sanswich ($8.50)', 'soup ($1.99)'] ----> [5.99, 0.2, 8.5, 1.99]\n"
     ]
    }
   ],
   "source": [
    "'''Q.5 You are given a list of strings consisting of grocery items, with prices in parentheses. Return a list of \n",
    "prices in float format.'''\n",
    "\n",
    "def get_prices(list1):\n",
    "    '''Return a list of prices in float formet'''\n",
    "    \n",
    "    list2 = []\n",
    "    for i in list1:\n",
    "        res = i.split('(')\n",
    "        result = res[1][1:(len(res[1])-1)]\n",
    "        list2.append(float(result))\n",
    "    \n",
    "    return f'{list1} ----> {list2}'\n",
    "\n",
    "print(get_prices(['salad ($4.99)']))\n",
    "print(get_prices(['artichokes ($1.99)','rotiserrie chiken ($5.99)', 'gum ($0.75)']))\n",
    "print(get_prices(['ice cream ($5.99)', 'banana ($0.20)', 'sanswich ($8.50)', 'soup ($1.99)']))"
   ]
  }
 ],
 "metadata": {
  "kernelspec": {
   "display_name": "Python 3",
   "language": "python",
   "name": "python3"
  },
  "language_info": {
   "codemirror_mode": {
    "name": "ipython",
    "version": 3
   },
   "file_extension": ".py",
   "mimetype": "text/x-python",
   "name": "python",
   "nbconvert_exporter": "python",
   "pygments_lexer": "ipython3",
   "version": "3.8.8"
  }
 },
 "nbformat": 4,
 "nbformat_minor": 5
}
