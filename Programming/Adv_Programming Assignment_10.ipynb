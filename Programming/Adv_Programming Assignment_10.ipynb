{
 "cells": [
  {
   "cell_type": "code",
   "execution_count": 36,
   "id": "37b6219f",
   "metadata": {},
   "outputs": [
    {
     "name": "stdout",
     "output_type": "stream",
     "text": [
      "get_frame(4, 5, #) => [['####'], ['# #'], ['# #'], ['# #'], ['####']] \n",
      "get_frame(10, 3, *) => [['**********'], ['*       *'], ['**********']] \n",
      "get_frame(2, 5, O) => \"invalid\" \n"
     ]
    }
   ],
   "source": [
    "'''Q.1 Create a function that takes the width, height and character and returns a picture frame as a 2D list.'''\n",
    "\n",
    "def get_frame(width, height, symbol):\n",
    "    \n",
    "    if width <=2 :\n",
    "        return f'get_frame({width}, {height}, {symbol}) => \"invalid\" '\n",
    "    else:\n",
    "        list1 = []\n",
    "        for i in range(height):\n",
    "            if i == 0 or i == height-1:\n",
    "                list1.append([symbol*width])\n",
    "            else:\n",
    "                list1.append([symbol + ' '*(width-3) + symbol])\n",
    "    \n",
    "    return f'get_frame({width}, {height}, {symbol}) => {list1} '\n",
    "            \n",
    "print(get_frame(4,5,'#'))\n",
    "print(get_frame(10,3,'*'))\n",
    "print(get_frame(2,5,'O'))\n"
   ]
  },
  {
   "cell_type": "code",
   "execution_count": 47,
   "id": "1023e9d9",
   "metadata": {},
   "outputs": [
    {
     "name": "stdout",
     "output_type": "stream",
     "text": [
      "boolean_and(True,True,False,True) => False\n",
      "boolean_or(True,True,False,False) => True\n"
     ]
    }
   ],
   "source": [
    "'''Q.2 Write three functions:\n",
    "        1. boolean_and\n",
    "        2. boolean_or\n",
    "        3. boolean_xor\n",
    "These functions should evaluate a list of True and False values, starting from the leftmost element and evaluating pairwise.'''\n",
    "\n",
    "def boolean_and(bool1, bool2, bool3, bool4):\n",
    "    result = (bool1 and bool2 and bool3 and bool4)\n",
    "    return f'boolean_and({bool1},{bool2},{bool3},{bool4}) => {result}'\n",
    "\n",
    "def boolean_or(bool1, bool2, bool3, bool4):\n",
    "    result = (bool1 or bool2 or bool3 or bool4)\n",
    "    return f'boolean_or({bool1},{bool2},{bool3},{bool4}) => {result}'\n",
    "\n",
    "\n",
    "print(boolean_and(True, True, False, True))\n",
    "print(boolean_or(True, True, False, False))"
   ]
  },
  {
   "cell_type": "code",
   "execution_count": 13,
   "id": "e05c2a58",
   "metadata": {},
   "outputs": [
    {
     "name": "stdout",
     "output_type": "stream",
     "text": [
      "['#####', '#  #', '#  #', '#  #', '#####']\n",
      "['###', '##', '###']\n",
      "['##', '##']\n",
      "['#']\n"
     ]
    }
   ],
   "source": [
    "'''Q.3 Create a function that creates a box based on dimension n.''' \n",
    "\n",
    "def make_box(num):\n",
    "    \n",
    "    list1 = []\n",
    "    for i in range(num):\n",
    "        if i == 0 or i == num-1:\n",
    "            list1.append('#'*num)\n",
    "        else:\n",
    "            list1.append('#' + ' '*(num-3) + '#')\n",
    "    return list1\n",
    "\n",
    "print(make_box(5))\n",
    "print(make_box(3))\n",
    "print(make_box(2))\n",
    "print(make_box(1))\n"
   ]
  },
  {
   "cell_type": "code",
   "execution_count": 6,
   "id": "e0aa9f83",
   "metadata": {},
   "outputs": [
    {
     "name": "stdout",
     "output_type": "stream",
     "text": [
      "Fortune favours the bold => True\n",
      "You can lead a horse to water, but you cant make himdrink => True\n",
      "Look before you leap => False\n"
     ]
    }
   ],
   "source": [
    "'''Q.4 Given a common phrase, return False if any individual word in the phrase contains duplicate letters. \n",
    "Return True otherwise.'''\n",
    "\n",
    "def duplicate(str1):\n",
    "    \n",
    "    result = 'True'\n",
    "    list1 = []\n",
    "    for i in str1:\n",
    "        if i not in list1:\n",
    "            list1.append(i)\n",
    "        else:\n",
    "            result = 'False'\n",
    "    return result\n",
    "\n",
    "def no_duplicate_letter(str1):\n",
    "    \n",
    "    for i in str1.split(' '):\n",
    "        return f'{str1} => {duplicate(i)}'\n",
    "\n",
    "print(no_duplicate_letter('Fortune favours the bold'))\n",
    "print(no_duplicate_letter('You can lead a horse to water, but you cant make himdrink'))\n",
    "print(no_duplicate_letter('Look before you leap'))"
   ]
  },
  {
   "cell_type": "code",
   "execution_count": 1,
   "id": "36abba0a",
   "metadata": {},
   "outputs": [
    {
     "data": {
      "text/plain": [
       "[' California ', ' Florida ']"
      ]
     },
     "execution_count": 1,
     "metadata": {},
     "output_type": "execute_result"
    }
   ],
   "source": [
    "'''Q.5 Write a regular expression that will match the states that voted yes to President Trumps impeachment. \n",
    "You must use RegEx positive lookahead.'''\n",
    "\n",
    "def re_findall(pattan, txt):\n",
    "    \n",
    "    list1 = []\n",
    "    for i in txt.split(','):\n",
    "        if pattan in i:\n",
    "            b = i.split('=')\n",
    "            list1.append(b[0])\n",
    "        \n",
    "    return list1\n",
    "    \n",
    "txt = 'Texas = no, California = yes, Florida = yes, Michigan = no'\n",
    "pattan = 'yes'\n",
    "\n",
    "re_findall(pattan, txt)"
   ]
  }
 ],
 "metadata": {
  "kernelspec": {
   "display_name": "Python 3",
   "language": "python",
   "name": "python3"
  },
  "language_info": {
   "codemirror_mode": {
    "name": "ipython",
    "version": 3
   },
   "file_extension": ".py",
   "mimetype": "text/x-python",
   "name": "python",
   "nbconvert_exporter": "python",
   "pygments_lexer": "ipython3",
   "version": "3.8.8"
  }
 },
 "nbformat": 4,
 "nbformat_minor": 5
}
