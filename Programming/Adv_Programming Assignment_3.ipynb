{
 "cells": [
  {
   "cell_type": "code",
   "execution_count": 7,
   "id": "1a2ac1c6",
   "metadata": {},
   "outputs": [
    {
     "name": "stdout",
     "output_type": "stream",
     "text": [
      "arithmetic_operation (12 + 12) => 24\n",
      "arithmetic_operation (12 - 12) => 0\n",
      "arithmetic_operation (12 * 12) => 144\n",
      "arithmetic_operation (12 // 0) => -1\n"
     ]
    }
   ],
   "source": [
    "'''Q.1 Create a function to perform basic arithmetic operations that includes addition, subtraction, multiplication \n",
    "and division on a string number (e.g. '12 + 24'; '23 - 21'; or '12 // 12'; or '12 * 21') In case of division whenever \n",
    "the second number equals of '0' return -1'''\n",
    "\n",
    "def arithmetic_operation(str1):\n",
    "    \n",
    "    try:\n",
    "        split = str1.split(' ')\n",
    "        num1 = int(split[0])\n",
    "        num2 = int(split[2])\n",
    "        operation = split[1]\n",
    "    \n",
    "        if operation == '+':\n",
    "            return f'arithmetic_operation ({str1}) => {num1 + num2}'\n",
    "\n",
    "        elif operation == '-':\n",
    "            return f'arithmetic_operation ({str1}) => {num1 - num2}'\n",
    "\n",
    "        elif operation == '*':\n",
    "            return f'arithmetic_operation ({str1}) => {num1 * num2}'\n",
    "\n",
    "        elif operation == '//':\n",
    "            if num2 == 0:\n",
    "                return f'arithmetic_operation ({str1}) => {-1}'\n",
    "            else:\n",
    "                return f'arithmetic_operation ({str1}) => {num1 // num2}'\n",
    "        else:\n",
    "            print(f'Your input {str1}\\nSorry I can not understand')\n",
    "    \n",
    "    except ValueError as ex1:\n",
    "        print('Please provide valid value')\n",
    "\n",
    "\n",
    "print(arithmetic_operation('12 + 12'))\n",
    "print(arithmetic_operation('12 - 12'))\n",
    "print(arithmetic_operation('12 * 12'))\n",
    "print(arithmetic_operation('12 // 0'))"
   ]
  },
  {
   "cell_type": "code",
   "execution_count": 47,
   "id": "93a03c4e",
   "metadata": {},
   "outputs": [
    {
     "name": "stdout",
     "output_type": "stream",
     "text": [
      "Perimeter of [[15, 7], [5, 22], [11, 1]] => 47.08\n",
      "Perimeter of [[0, 0], [0, 1], [1, 0]] => 3.41\n",
      "Perimeter of [[-10, -10], [10, 10], [-10, 10]] => 68.28\n"
     ]
    }
   ],
   "source": [
    "'''Q.2 Write a function that takes the coordinates of three points in the form of a 2d array and returns the\n",
    "perimeter of the triangle. The given points are the vertices of a triangle on a two-dimensional plane'''\n",
    "\n",
    "def distance(l1, l2):\n",
    "    import math\n",
    "    return math.sqrt((l2[1] - l1[1])**2 + (l2[0] - l1[0])**2)\n",
    "\n",
    "\n",
    "def perimeter(list_list):\n",
    "    \n",
    "    namespace = globals()\n",
    "    for i in range(len(list_list)):\n",
    "        namespace['list%d' % i] = list_list[i]\n",
    "        \n",
    "    ab = distance(list0, list1)\n",
    "    bc = distance(list1, list2)\n",
    "    ca = distance(list2, list0)\n",
    "    \n",
    "    return round(ab + bc + ca, 2)\n",
    "\n",
    "list_list = [[15,7],[5,22],[11,1]]\n",
    "print(f'Perimeter of {list_list} =>', perimeter(list_list))\n",
    "\n",
    "list_list = [[0,0],[0,1],[1,0]]\n",
    "print(f'Perimeter of {list_list} =>', perimeter(list_list))\n",
    "\n",
    "list_list = [[-10,-10],[10,10],[-10,10]]\n",
    "print(f'Perimeter of {list_list} =>', perimeter(list_list))"
   ]
  },
  {
   "cell_type": "code",
   "execution_count": 21,
   "id": "6bf1a3b6",
   "metadata": {},
   "outputs": [
    {
     "name": "stdout",
     "output_type": "stream",
     "text": [
      "tallest_skyscraper([[0, 0, 0, 0], [0, 1, 0, 0], [0, 1, 1, 0], [1, 1, 1, 1]]) => 3\n",
      "tallest_skyscraper([[0, 0, 0, 0], [0, 0, 0, 0], [1, 1, 1, 0], [1, 1, 1, 1]]) => 2\n",
      "tallest_skyscraper([[0, 1, 0, 0], [0, 1, 0, 0], [0, 1, 1, 0], [1, 1, 1, 1]]) => 4\n"
     ]
    }
   ],
   "source": [
    "'''Q.3 A city skyline can be represented as a 2-D list with 1s representing buildings. In the example below, \n",
    "the height of the tallest building is 4 (second-most right column)'''\n",
    "\n",
    "def tallest_skyscraper(matrix):\n",
    "\n",
    "    count = 0\n",
    "    value_sum = 0\n",
    "    for i in matrix:\n",
    "        for j in i:\n",
    "            value_sum = value_sum + j\n",
    "        if value_sum > 0:\n",
    "            count = count + 1\n",
    "\n",
    "    return f'tallest_skyscraper({matrix}) => {count}'\n",
    "\n",
    "print(tallest_skyscraper([[0,0,0,0],[0,1,0,0],[0,1,1,0],[1,1,1,1]]))\n",
    "print(tallest_skyscraper([[0,0,0,0],[0,0,0,0],[1,1,1,0],[1,1,1,1]]))\n",
    "print(tallest_skyscraper([[0,1,0,0],[0,1,0,0],[0,1,1,0],[1,1,1,1]]))"
   ]
  },
  {
   "cell_type": "code",
   "execution_count": 167,
   "id": "7be78e1c",
   "metadata": {},
   "outputs": [
    {
     "name": "stdout",
     "output_type": "stream",
     "text": [
      "Bonus of 15 days is 0\n",
      "Bonus of 37 days is 1625\n",
      "Bonus of 50 days is 8200\n"
     ]
    }
   ],
   "source": [
    "'''Q.4 \n",
    "Days                     Bonus\n",
    "0 to 32 days             Zero\n",
    "33 to 40 days            SGD$325 per billable day\n",
    "41 to 48 days            SGD$550 per billable day\n",
    "Greater than 48 days     SGD$600 per billable day'''\n",
    "\n",
    "def bonus(days):\n",
    "    bonus = 0\n",
    "    for i in range(days):\n",
    "        if i<=32:\n",
    "            bonus = bonus\n",
    "        if i>32 and i<=40:\n",
    "            bonus = (32-0)*0 + (i+1-32)*325\n",
    "        if i>40 and i<= 48:\n",
    "            bonus = (40-32)*325 + (i+1-40)*550\n",
    "        if i>48:\n",
    "            bonus = (40-32)*325 + (48-40)*550 + (i+1-48)*600\n",
    "            \n",
    "    return bonus\n",
    "\n",
    "days = 15\n",
    "print(f'Bonus of {days} days is {bonus(days)}')\n",
    "\n",
    "days = 37\n",
    "print(f'Bonus of {days} days is {bonus(days)}')\n",
    "\n",
    "days = 50\n",
    "print(f'Bonus of {days} days is {bonus(days)}')"
   ]
  },
  {
   "cell_type": "code",
   "execution_count": 26,
   "id": "8b50ffa9",
   "metadata": {},
   "outputs": [
    {
     "name": "stdout",
     "output_type": "stream",
     "text": [
      "is disarium (75) => False\n",
      "is disarium (135) => True\n",
      "is disarium (544) => False\n",
      "is disarium (518) => True\n"
     ]
    }
   ],
   "source": [
    "'''Q.5 A number is said to be Disarium if the sum of its digits raised to their respective positions is the number itself.\n",
    "Create a function that determines whether a number is a Disarium or not.'''\n",
    "\n",
    "def is_disarium(n):\n",
    "    '''A number Disarium or not'''\n",
    "    \n",
    "    str1 = str(n)\n",
    "    sum = 0\n",
    "    for i in range(len(str1)):\n",
    "        sum = sum + int(str1[i])**(i+1)\n",
    "    \n",
    "    if sum == n:\n",
    "        return f'is disarium ({n}) => True'\n",
    "    else:\n",
    "        return f'is disarium ({n}) => False'\n",
    "    \n",
    "    \n",
    "print(is_disarium(75))\n",
    "print(is_disarium(135))\n",
    "print(is_disarium(544))\n",
    "print(is_disarium(518))"
   ]
  },
  {
   "cell_type": "code",
   "execution_count": null,
   "id": "a369662a",
   "metadata": {},
   "outputs": [],
   "source": []
  }
 ],
 "metadata": {
  "kernelspec": {
   "display_name": "Python 3",
   "language": "python",
   "name": "python3"
  },
  "language_info": {
   "codemirror_mode": {
    "name": "ipython",
    "version": 3
   },
   "file_extension": ".py",
   "mimetype": "text/x-python",
   "name": "python",
   "nbconvert_exporter": "python",
   "pygments_lexer": "ipython3",
   "version": "3.8.8"
  }
 },
 "nbformat": 4,
 "nbformat_minor": 5
}
