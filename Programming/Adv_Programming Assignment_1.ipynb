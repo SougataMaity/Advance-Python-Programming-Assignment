{
 "cells": [
  {
   "cell_type": "code",
   "execution_count": 5,
   "id": "24b15835",
   "metadata": {},
   "outputs": [
    {
     "name": "stdout",
     "output_type": "stream",
     "text": [
      "check_score[['#', '!'], ['!!', 'X']] => 2\n",
      "check_score[['!!!', 'O', '!'], ['X', '#', '!!!'], ['!!', 'X', 'O']] => -1\n",
      "check_score[['#', '!'], ['!!', 'X']] => 2\n"
     ]
    }
   ],
   "source": [
    "'''Q.1 Write a function that takes a list of lists and returns the value of all of the symbols in it, where each symbol \n",
    "adds or takes something from the total score. Symbol values:'''\n",
    "\n",
    "def check_score(list1):\n",
    "    '''takes a list of lists and returns the value of all of the symbols'''\n",
    "    \n",
    "    sum1 = 0\n",
    "    for i in list1:\n",
    "        for j in i:\n",
    "            if j == '#':\n",
    "                sum1 = sum1 + 5\n",
    "            elif j == 'O':\n",
    "                sum1 = sum1 + 3\n",
    "            elif j == 'X':\n",
    "                sum1 = sum1 + 1\n",
    "            elif j == '!':\n",
    "                sum1 = sum1 - 1\n",
    "            elif j == '!!':\n",
    "                sum1 = sum1 - 3\n",
    "            elif j == '!!!':\n",
    "                sum1 = sum1 - 5\n",
    "                \n",
    "    return f'check_score{list1} => {sum1}'\n",
    "\n",
    "print(check_score([['#','!'],['!!','X']]))\n",
    "print(check_score([['!!!','O','!'],['X','#','!!!'],['!!!','X','O']]))\n",
    "print(check_score([['#','!'],['!!','X']]))"
   ]
  },
  {
   "cell_type": "code",
   "execution_count": 1,
   "id": "78980a9e",
   "metadata": {},
   "outputs": [
    {
     "name": "stdout",
     "output_type": "stream",
     "text": [
      "combinations((2, 3)) => 6\n",
      "combinations((3, 7, 4)) => 84\n",
      "combinations((2, 3, 4, 5)) => 120\n"
     ]
    }
   ],
   "source": [
    "'''Q.2 Create a function that takes a variable number of arguments, each argument representing the number of items in a \n",
    "group, and returns the number of permutations (combinations) of items that you could get by taking one item from each group.'''\n",
    "\n",
    "def combinations(*data):\n",
    "    '''takes a variable number of arguments, each argument representing the number of items in a \n",
    "    group, and returns the number of permutations (combinations) of items'''\n",
    "    comb = 1\n",
    "    for i in data:\n",
    "        comb = comb * i\n",
    "        \n",
    "    return f'combinations({data}) => {comb}'\n",
    "    \n",
    "print(combinations(2,3))\n",
    "print(combinations(3,7,4))\n",
    "print(combinations(2,3,4,5))"
   ]
  },
  {
   "cell_type": "code",
   "execution_count": 48,
   "id": "38364785",
   "metadata": {},
   "outputs": [
    {
     "name": "stdout",
     "output_type": "stream",
     "text": [
      "encode_morse (EDABBIT CHALLENGE!) => . -.. .- -... -... .. -   -.-. .... .- .-.. .-.. . -. --. . -.-.--\n",
      "encode_morse (HELP ME !) => .... . .-.. .--.   -- .   -.-.--\n"
     ]
    }
   ],
   "source": [
    "'''Q.3 Create a function that takes a string as an argument and returns the Morse code equivalent.'''\n",
    "\n",
    "char_to_dots = {\n",
    "  'A': '.-', 'B': '-...', 'C': '-.-.', 'D': '-..', 'E': '.', 'F': '..-.',\n",
    "  'G': '--.', 'H': '....', 'I': '..', 'J': '.---', 'K': '-.-', 'L': '.-..',\n",
    "  'M': '--', 'N': '-.', 'O': '---', 'P': '.--.', 'Q': '--.-', 'R': '.-.',\n",
    "  'S': '...', 'T': '-', 'U': '..-', 'V': '...-', 'W': '.--', 'X': '-..-',\n",
    "  'Y': '-.--', 'Z': '--..', ' ': ' ', '0': '-----',\n",
    "  '1': '.----', '2': '..---', '3': '...--', '4': '....-', '5': '.....',\n",
    "  '6': '-....', '7': '--...', '8': '---..', '9': '----.',\n",
    "  '&': '.-...', \"'\": '.----.', '@': '.--.-.', ')': '-.--.-', '(': '-.--.',\n",
    "  ':': '---...', ',': '--..--', '=': '-...-', '!': '-.-.--', '.': '.-.-.-',\n",
    "  '-': '-....-', '+': '.-.-.', '\"': '.-..-.', '?': '..--..', '/': '-..-.'\n",
    "}\n",
    "\n",
    "def encode_morse(str1):\n",
    "    '''Morse code equivalent'''\n",
    "    \n",
    "    nl = []\n",
    "    global char_to_dots\n",
    "    char_to_dots = {k.lower(): v for k, v in char_to_dots.items()}\n",
    "\n",
    "    for w in str1.lower():\n",
    "        for c in w:\n",
    "            if c in char_to_dots:\n",
    "                nl.append(char_to_dots[c])\n",
    "    \n",
    "    return f\"encode_morse ({str1}) => {' '.join(nl)}\"\n",
    "\n",
    "print(encode_morse('EDABBIT CHALLENGE!'))\n",
    "print(encode_morse('HELP ME !'))"
   ]
  },
  {
   "cell_type": "code",
   "execution_count": 22,
   "id": "04006ef4",
   "metadata": {},
   "outputs": [
    {
     "name": "stdout",
     "output_type": "stream",
     "text": [
      "primes(7) => True\n",
      "primes(56963) => True\n",
      "primes(5151512515524) => False\n"
     ]
    }
   ],
   "source": [
    "'''Q.4 Write a function that takes a number and returns True if it a prime; False otherwise. The number can be \n",
    "2^64-1 (2 to the power of 63, not XOR). With the standard technique it would be O(2^64-1), which is much too large for the\n",
    "10 second time limit.'''\n",
    "\n",
    "def primes(number):\n",
    "    '''Return True if it prime False otherwise'''\n",
    "    \n",
    "    result = 'True'\n",
    "    if number > 1:\n",
    "        for i in range(2,number):\n",
    "            if number%i == 0:\n",
    "                result = 'False'\n",
    "                break\n",
    "                \n",
    "    return f'primes({number}) => {result}'\n",
    "\n",
    "print(primes(7))\n",
    "print(primes(56963))\n",
    "print(primes(5151512515524))"
   ]
  },
  {
   "cell_type": "code",
   "execution_count": 6,
   "id": "13b7a492",
   "metadata": {},
   "outputs": [
    {
     "name": "stdout",
     "output_type": "stream",
     "text": [
      "to_boolean_list(deep) => ['False', 'True', 'True', 'False']\n",
      "to_boolean_list(loves) => ['False', 'True', 'False', 'True', 'True']\n",
      "to_boolean_list(tesh) => ['False', 'True', 'True', 'False']\n"
     ]
    }
   ],
   "source": [
    "'''Q.5 Create a function that converts a word to a bitstring and then to a boolean list based on the following criteria:\n",
    "1. Locate the position of the letter in the English alphabet (from 1 to 26).\n",
    "2. Odd positions will be represented as 1 and 0 otherwise.\n",
    "3. Convert the represented positions to boolean values, 1 for True and 0 for False.\n",
    "4. Store the conversions into an array.'''\n",
    "\n",
    "def to_boolean_list(str1):\n",
    "    \n",
    "    list1 = []\n",
    "    for i in str1:\n",
    "        if ord(i)%2 != 0:\n",
    "            list1.append('True')\n",
    "            \n",
    "        else:\n",
    "            list1.append('False')\n",
    "            \n",
    "    return f'to_boolean_list({str1}) => {list1}'\n",
    "\n",
    "print(to_boolean_list('deep'))\n",
    "print(to_boolean_list('loves'))\n",
    "print(to_boolean_list('tesh'))"
   ]
  }
 ],
 "metadata": {
  "kernelspec": {
   "display_name": "Python 3",
   "language": "python",
   "name": "python3"
  },
  "language_info": {
   "codemirror_mode": {
    "name": "ipython",
    "version": 3
   },
   "file_extension": ".py",
   "mimetype": "text/x-python",
   "name": "python",
   "nbconvert_exporter": "python",
   "pygments_lexer": "ipython3",
   "version": "3.8.8"
  }
 },
 "nbformat": 4,
 "nbformat_minor": 5
}
