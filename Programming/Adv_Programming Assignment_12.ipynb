{
 "cells": [
  {
   "cell_type": "code",
   "execution_count": 3,
   "id": "de0ce0fa",
   "metadata": {},
   "outputs": [
    {
     "name": "stdout",
     "output_type": "stream",
     "text": [
      "meme_sum(26, 39) => 515\n",
      "meme_sum(122, 81) => 1103\n",
      "meme_sum(1222, 30277) => 31499\n"
     ]
    }
   ],
   "source": [
    "'''Q.1 For this challenge, forget how to add two numbers together. The best explanation on what to do for this function \n",
    "is this meme'''\n",
    "\n",
    "def meme_sum(num1, num2):\n",
    "    str1 = str(num1)\n",
    "    str2 = str(num2)\n",
    "    \n",
    "    if len(str1) == len(str2):\n",
    "        pass\n",
    "    else:\n",
    "        if len(str1) > len(str2):\n",
    "            for i in range(len(str1) - len(str2)):\n",
    "                str2 = '0' + str2\n",
    "        else:\n",
    "            for i in range(len(str2) - len(str1)):\n",
    "                str1 = '0' + str1\n",
    "    \n",
    "    \n",
    "    res = ''\n",
    "    for i in range(len(str1)):\n",
    "        add = int(str1[i]) + int(str2[i])\n",
    "        res = res + str(add)\n",
    "        \n",
    "    return f\"meme_sum({num1}, {num2}) => {res}\"\n",
    "\n",
    "print(meme_sum(26, 39))\n",
    "print(meme_sum(122, 81))\n",
    "print(meme_sum(1222, 30277))"
   ]
  },
  {
   "cell_type": "code",
   "execution_count": 24,
   "id": "b38d1852",
   "metadata": {},
   "outputs": [
    {
     "name": "stdout",
     "output_type": "stream",
     "text": [
      "next_prime(12) => 13\n",
      "next_prime(24) => 29\n",
      "next_prime(11) => 11\n"
     ]
    }
   ],
   "source": [
    "'''Q.2 Given an integer, create a function that returns the next prime. If the number is prime, return the number itself '''\n",
    "\n",
    "def next_prime(num):\n",
    "    list1 = []\n",
    "    for number in range (1, num + 10):  \n",
    "        if number > 1:  \n",
    "            for i in range (2, number):  \n",
    "                if (number % i) == 0:  \n",
    "                    break  \n",
    "            else:  \n",
    "                list1.append(number)  \n",
    "\n",
    "    for i in list1:\n",
    "        if i == num:\n",
    "            res = num\n",
    "            break\n",
    "            \n",
    "        else:\n",
    "            if i>num:\n",
    "                res = i\n",
    "                break\n",
    "                \n",
    "        \n",
    "    return f\"next_prime({num}) => {res}\"\n",
    "    \n",
    "\n",
    "print(next_prime(12)) \n",
    "print(next_prime(24)) \n",
    "print(next_prime(11))"
   ]
  },
  {
   "cell_type": "code",
   "execution_count": 12,
   "id": "31ffa2e2",
   "metadata": {},
   "outputs": [
    {
     "name": "stdout",
     "output_type": "stream",
     "text": [
      "ave_spd(18,20,60) => 30.0\n",
      "ave_spd(30,10,30) => 15.0\n",
      "ave_spd(30,8,24) => 12.0\n"
     ]
    }
   ],
   "source": [
    "'''Q.3 If a person traveled up a hill for 18mins at 20mph and then traveled back down the same path at 60mph then their average \n",
    "speed traveled was 30mph.Write a function that returns the average speed traveled given an uphill time, uphill rate and a \n",
    "downhill rate. Uphill time is given in minutes. Return the rate as an integer (mph). No rounding is necessary.'''\n",
    "\n",
    "def ave_spd(t1, s1, s2):\n",
    "    d1 = s1 * (t1/60)\n",
    "    t2 = d1/s2\n",
    "    \n",
    "    total_time = (t1/60 + t2)\n",
    "    total_distance = 2*d1\n",
    "    \n",
    "    return f\"ave_spd({t1},{s1},{s2}) => {total_distance/total_time}\"\n",
    "\n",
    "print(ave_spd(18,20,60))\n",
    "print(ave_spd(30,10,30))\n",
    "print(ave_spd(30,8,24))"
   ]
  },
  {
   "cell_type": "code",
   "execution_count": 8,
   "id": "917f2c25",
   "metadata": {},
   "outputs": [
    {
     "name": "stdout",
     "output_type": "stream",
     "text": [
      "kempner(3) => 3\n",
      "kempner(10) => 5\n",
      "kempner(2) => 2\n"
     ]
    }
   ],
   "source": [
    "'''Q.4 The Kempner Function, applied to a composite number, permits to find the smallest integer greater than zero \n",
    "whose factorial is exactly divided by the number.'''\n",
    "\n",
    "def kempner(num):\n",
    "    res = 1\n",
    "    for i in range(1,num+1):\n",
    "        res = res *i\n",
    "        if res%num==0:\n",
    "            return f\"kempner({num}) => {i}\"\n",
    "            \n",
    "print(kempner(3))\n",
    "print(kempner(10))\n",
    "print(kempner(2))"
   ]
  },
  {
   "cell_type": "code",
   "execution_count": 12,
   "id": "4cf7a059",
   "metadata": {},
   "outputs": [
    {
     "name": "stdout",
     "output_type": "stream",
     "text": [
      "Box 1 : [2, 1, 2, 5] (10 kg)\n",
      "Box 2 : [4, 3] (7 kg)\n",
      "Box 3 : [6, 1, 1] (8 kg)\n",
      "Box 4 : [9, 3, 2] (14 kg)\n"
     ]
    }
   ],
   "source": [
    "'''Q.5 You work in a factory, and your job is to take items from a conveyor belt and pack them into boxes. \n",
    "Each box can hold a maximum of 10 kgs. Given a list containing the weight (in kg) of each item, how many boxes \n",
    "would you need to pack all of the items '''\n",
    "\n",
    "import numpy as np\n",
    "data  = [2, 1, 2, 5, 4, 3, 6, 1, 1, 9, 3, 2]\n",
    "data1 = np.cumsum(data)\n",
    "\n",
    "box1 = []\n",
    "box2 = []\n",
    "box3 = []\n",
    "box4 = []\n",
    "\n",
    "for i in range(len(data1)):\n",
    "    if data1[i]>0 and data1[i]<=10:\n",
    "        box1.append(data[i])\n",
    "        \n",
    "    elif data1[i]>10 and data1[i]<=20:\n",
    "        box2.append(data[i])\n",
    "            \n",
    "    elif data1[i]>20 and data1[i]<=30:\n",
    "        box3.append(data[i])\n",
    "                \n",
    "    else:\n",
    "        box4.append(data[i])\n",
    "        \n",
    "print('Box 1 :', box1, f\"({sum(box1)} kg)\")\n",
    "print('Box 2 :', box2, f\"({sum(box2)} kg)\")\n",
    "print('Box 3 :', box3, f\"({sum(box3)} kg)\")\n",
    "print('Box 4 :', box4, f\"({sum(box4)} kg)\")        "
   ]
  }
 ],
 "metadata": {
  "kernelspec": {
   "display_name": "Python 3 (ipykernel)",
   "language": "python",
   "name": "python3"
  },
  "language_info": {
   "codemirror_mode": {
    "name": "ipython",
    "version": 3
   },
   "file_extension": ".py",
   "mimetype": "text/x-python",
   "name": "python",
   "nbconvert_exporter": "python",
   "pygments_lexer": "ipython3",
   "version": "3.9.7"
  }
 },
 "nbformat": 4,
 "nbformat_minor": 5
}
