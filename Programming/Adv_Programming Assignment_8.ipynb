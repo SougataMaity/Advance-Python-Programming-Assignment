{
 "cells": [
  {
   "cell_type": "code",
   "execution_count": 103,
   "id": "b462f35f",
   "metadata": {},
   "outputs": [
    {
     "data": {
      "text/plain": [
       "\"False    [['a', 'v'], ['y', 'l'], ['k', 'a']]\""
      ]
     },
     "execution_count": 103,
     "metadata": {},
     "output_type": "execute_result"
    }
   ],
   "source": [
    "'''Q.1 Given a sentence as txt, return True if any two adjacent words have this property.\n",
    "One word ends with a vowel, while the word immediately after begins with a vowel'''\n",
    "\n",
    "def vowel_links(string):\n",
    "    '''return True if any two adjacent words if One word ends with a vowel,\n",
    "    while the word immediately after begins with a vowel'''\n",
    "    \n",
    "    l = []\n",
    "    count = -1\n",
    "    vowel = 'AaEeIiOoUu'\n",
    "    for i in a:\n",
    "        count = count+1\n",
    "        if i == ' ':\n",
    "            if a[count-1] in vowel and a[count+1] in vowel:\n",
    "                result = 'True'\n",
    "            else:\n",
    "                result = 'False'\n",
    "                \n",
    "            l.append([a[count-1], a[count+1]])\n",
    "            \n",
    "    return f'{result}    {l}'\n",
    "\n",
    "\n",
    "a = 'a very largk appliance'\n",
    "vowel_links(a)"
   ]
  },
  {
   "cell_type": "code",
   "execution_count": 131,
   "id": "5573e863",
   "metadata": {},
   "outputs": [
    {
     "name": "stdout",
     "output_type": "stream",
     "text": [
      "a rabbit jumps joyfully  a  j --> yes\n",
      "happy birthday  a  y --> no\n",
      "knaves knew about waterfalls  k  w --> yes\n"
     ]
    }
   ],
   "source": [
    "'''Q.2 You are given three inputs: a string, one letter, and a second letter. Write a function that returns \n",
    "True if every instance of the first letter occurs before every instance of the second letter.'''\n",
    "\n",
    "def first_before_second(str1, first_letter, second_letter):\n",
    "    '''returns True if every instance of the first letter occurs before every instance of the second letter'''\n",
    "    \n",
    "    for i in range(len(str1)):\n",
    "        if str1[i]== first_letter:\n",
    "            a_ind = i\n",
    "        elif str1[i] == second_letter:\n",
    "            b_ind = j\n",
    "    \n",
    "    if a_ind < b_ind:\n",
    "        result = 'yes'\n",
    "    else:\n",
    "        result = 'no'\n",
    "    return f'{str1}  {first_letter}  {second_letter} --> {result}'\n",
    "\n",
    "str1 = 'a rabbit jumps joyfully'\n",
    "print(first_before_second(str1, 'a', 'j'))\n",
    "\n",
    "str1 = 'happy birthday'\n",
    "print(first_before_second(str1, 'a', 'y'))\n",
    "\n",
    "str1 = 'knaves knew about waterfalls'\n",
    "print(first_before_second(str1, 'k', 'w'))\n",
    "        "
   ]
  },
  {
   "cell_type": "code",
   "execution_count": 145,
   "id": "1de2d8e3",
   "metadata": {},
   "outputs": [
    {
     "name": "stdout",
     "output_type": "stream",
     "text": [
      "[2, 4, 6, 8, 10] condition - even ---> [4, 8]\n",
      "EDABIT condition - odd ---> EAI\n",
      "['A', 'R', 'B', 'I', 'T', 'R', 'A', 'R', 'I', 'L', 'Y'] condition - odd ---> ['A', 'B', 'T', 'A', 'I', 'Y']\n"
     ]
    }
   ],
   "source": [
    "'''Q.3 Create a function that returns the characters from a list or string r on odd or even positions, depending on the \n",
    "specifier s. The specifier will be odd for items on odd positions (1, 3, 5, ...) and even for items on even positions \n",
    "(2,4, 6, ...).'''\n",
    "\n",
    "def char_at_pos(list, condition):\n",
    "    \n",
    "    for i in list:\n",
    "        if condition == 'even':\n",
    "            result =  list[1:len(list):2]\n",
    "        \n",
    "        elif condition == 'odd':\n",
    "            result =  list[0:len(list):2]\n",
    "        \n",
    "        else:\n",
    "            result =  'Please enter even or odd'\n",
    "    return f'{list} condition - {condition} ---> {result}'\n",
    "            \n",
    "            \n",
    "list = [2,4,6,8,10]         \n",
    "print(char_at_pos(list, 'even'))\n",
    "print(char_at_pos('EDABIT', 'odd'))\n",
    "print(char_at_pos(['A','R','B','I','T','R','A','R','I','L','Y'],'odd'))\n",
    "        "
   ]
  },
  {
   "cell_type": "code",
   "execution_count": 198,
   "id": "3d9b6ff4",
   "metadata": {},
   "outputs": [
    {
     "data": {
      "text/plain": [
       "'GCD of [1, 2, 3, 100] is 1'"
      ]
     },
     "execution_count": 198,
     "metadata": {},
     "output_type": "execute_result"
    }
   ],
   "source": [
    "'''Q.4 Write a function that returns the greatest common divisor of all list elements. \n",
    "the greatest common divisor is 1, return 1.'''\n",
    "\n",
    "def GCD(my_list):\n",
    "    '''Greatest common divisor in a list'''\n",
    "    \n",
    "    result = my_list[0]\n",
    "    for x in my_list[1:]:\n",
    "        if result < x:\n",
    "            temp = result\n",
    "            result = x\n",
    "            x = temp\n",
    "        while x != 0:\n",
    "            temp = x\n",
    "            x = result % x\n",
    "            result = temp\n",
    "    return f'GCD of {my_list} is {result}' \n",
    "\n",
    "GCD([1,2,3,100])"
   ]
  },
  {
   "cell_type": "code",
   "execution_count": 193,
   "id": "1ac31663",
   "metadata": {},
   "outputs": [
    {
     "name": "stdout",
     "output_type": "stream",
     "text": [
      "Decimal only\n",
      "Decimal 1306031\n",
      "Binary 100111110110110101111\n",
      "\n",
      "\n",
      "Binary only\n",
      "Decimal 427787\n",
      "Binary 1101000011100001011\n",
      "\n",
      "\n",
      "Decimal and Binary\n",
      "Decimal 313\n",
      "Binary 100111001\n",
      "\n",
      "\n",
      "Neither!\n",
      "Decimal 934\n",
      "Binary 1110100110\n"
     ]
    }
   ],
   "source": [
    "'''Q.5 \n",
    "A number/string is a palindrome if the digits/characters are the same when read both forward and backward. \n",
    "Given a positive number n, check if n or the binary representation of n is palindromic. Return the following:\n",
    "    \n",
    "    Decimal only.&quot; if only n is a palindrome.\n",
    "    Binary only.&quot; if only the binary representation of n is a palindrome.\n",
    "    Decimal and binary.&quot; if both are palindromes.\n",
    "    Neither!&quot; if neither are palindromes\n",
    "    \n",
    "'''\n",
    "\n",
    "def palindrome_type(number):\n",
    "    \n",
    "    num = str(number)\n",
    "    binary = bin(number)[2::]\n",
    "    \n",
    "    if num == num[::-1] and binary != binary[::-1]:\n",
    "        return (f'Decimal only\\nDecimal {number}\\nBinary {binary}')\n",
    "    \n",
    "    elif num != num[::-1] and binary == binary[::-1]:\n",
    "        return (f'Binary only\\nDecimal {number}\\nBinary {binary}')\n",
    "        \n",
    "    elif num == num[::-1] and binary == binary[::-1]:\n",
    "        return (f'Decimal and Binary\\nDecimal {number}\\nBinary {binary}')\n",
    "    \n",
    "    else:\n",
    "        return (f'Neither!\\nDecimal {number}\\nBinary {binary}')\n",
    "\n",
    "print(palindrome_type(1306031))\n",
    "print('\\n')\n",
    "\n",
    "print(palindrome_type(427787))\n",
    "print('\\n')\n",
    "\n",
    "print(palindrome_type(313))\n",
    "print('\\n')\n",
    "\n",
    "print(palindrome_type(934))"
   ]
  },
  {
   "cell_type": "code",
   "execution_count": null,
   "id": "c8a082c6",
   "metadata": {},
   "outputs": [],
   "source": []
  }
 ],
 "metadata": {
  "kernelspec": {
   "display_name": "Python 3",
   "language": "python",
   "name": "python3"
  },
  "language_info": {
   "codemirror_mode": {
    "name": "ipython",
    "version": 3
   },
   "file_extension": ".py",
   "mimetype": "text/x-python",
   "name": "python",
   "nbconvert_exporter": "python",
   "pygments_lexer": "ipython3",
   "version": "3.8.8"
  }
 },
 "nbformat": 4,
 "nbformat_minor": 5
}
