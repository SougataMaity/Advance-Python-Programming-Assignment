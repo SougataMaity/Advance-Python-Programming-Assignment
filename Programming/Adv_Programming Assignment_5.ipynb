{
 "cells": [
  {
   "cell_type": "code",
   "execution_count": 3,
   "id": "f0610cc0",
   "metadata": {},
   "outputs": [
    {
     "name": "stdout",
     "output_type": "stream",
     "text": [
      "f(1) => 2\n",
      "f(2) => 8\n",
      "f(3) => 2\n"
     ]
    }
   ],
   "source": [
    "'''Q.1 Create a function that takes a number n (integer greater than zero) as an argument, and \n",
    "returns 2 if n is odd and 8 if n is even.\n",
    "\n",
    "You can only use the following arithmetic operators: addition of numbers +,\n",
    "subtraction of numbers -, multiplication of number *, division of number /, and\n",
    "exponentiation **.\n",
    "You are not allowed to use any other methods in this challenge (i.e. no if\n",
    "statements, comparison operators, etc).'''\n",
    "\n",
    "def f(n):\n",
    "    '''returns 2 if n is odd and 8 if n is even.'''\n",
    "    \n",
    "    output = [8,2]\n",
    "    return f'f({n}) => {output[(n%2)]}'\n",
    "\n",
    "print(f(1))\n",
    "print(f(2))\n",
    "print(f(3))\n"
   ]
  },
  {
   "cell_type": "code",
   "execution_count": 24,
   "id": "c786a8e5",
   "metadata": {},
   "outputs": [
    {
     "name": "stdout",
     "output_type": "stream",
     "text": [
      "['A', 'A', 'B'] major element => A\n",
      "['A', 'A', 'A', 'B', 'C', 'A'] major element => A\n",
      "['A', 'B', 'B', 'A', 'C', 'C'] major element => None\n"
     ]
    }
   ],
   "source": [
    "'''Q.2 Create a function that returns the majority vote in a list. A majority vote is an element that \n",
    "occurs > N/2 times in a list (where N is the length of the list).'''\n",
    "\n",
    "def majority_vote(list1):\n",
    "    '''Majority vote in a list'''\n",
    "    \n",
    "    for i in list1:\n",
    "        if len(list1)/2 <= list1.count(i):\n",
    "            return i\n",
    "        else:\n",
    "            return 'None'\n",
    "\n",
    "list1 = ['A','A','B']\n",
    "print(f'{list1} major element =>', majority_vote(list1))\n",
    "\n",
    "list1 = ['A','A','A','B','C','A']\n",
    "print(f'{list1} major element =>', majority_vote(list1))\n",
    "\n",
    "list1 = ['A','B','B','A','C','C']\n",
    "print(f'{list1} major element =>', majority_vote(list1))"
   ]
  },
  {
   "cell_type": "code",
   "execution_count": 17,
   "id": "0806d335",
   "metadata": {},
   "outputs": [
    {
     "name": "stdout",
     "output_type": "stream",
     "text": [
      "censor_string(Today is a Wednesday!, ['Today', 'a'], -) => ----- is - Wednesday! \n",
      "censor_string(The cow jumped over the moon., ['cow', 'over'], *) => The *** jumped **** the moon. \n",
      "censor_string(Why did the chicken cross the road ?, ['did', 'chicken', 'road'], *) => Why *** the ******* cross the **** ? \n"
     ]
    }
   ],
   "source": [
    "'''Q.3 Create a function that takes a string txt and censors any word from a given list lst. \n",
    "The text removed must be replaced by the given character char.'''\n",
    "\n",
    "def censor_string(str1, list1, symbol):\n",
    "    '''akes a string txt and censors any word from a given list lst. \n",
    "    The text removed must be replaced by the given character char'''\n",
    "    \n",
    "    res = ''\n",
    "    for i in str1.split(' '):\n",
    "        if i in list1:\n",
    "            for j in i:\n",
    "                res = res + symbol\n",
    "            res = res + ' '\n",
    "        else:\n",
    "            res = res + i + ' '\n",
    "            \n",
    "    return f'censor_string({str1}, {list1}, {symbol}) => {res}'\n",
    "\n",
    "print(censor_string('Today is a Wednesday!', ['Today','a'],'-'))\n",
    "print(censor_string('The cow jumped over the moon.',['cow','over'],'*'))\n",
    "print(censor_string('Why did the chicken cross the road ?',['did','chicken','road'],'*'))"
   ]
  },
  {
   "cell_type": "code",
   "execution_count": 76,
   "id": "b0633b0f",
   "metadata": {},
   "outputs": [
    {
     "name": "stdout",
     "output_type": "stream",
     "text": [
      "The number 1232 is polydivisible => True\n",
      "The number 123220 is polydivisible => False\n"
     ]
    }
   ],
   "source": [
    "'''Q.4 In mathematics a Polydivisible Number (or magic number) is a number in a given number base with digits abcde... \n",
    "that has the following properties:\n",
    "- Its first digit a is not 0.\n",
    "- The number formed by its first two digits ab is a multiple of 2.\n",
    "- The number formed by its first three digits abc is a multiple of 3.\n",
    "- The number formed by its first four digits abcd is a multiple of 4.\n",
    "Create a function which takes an integer n and returns True if the given number is a Polydivisible Number and False otherwise.'''\n",
    "\n",
    "def is_polydivisible(num):\n",
    "    '''Polydivisible Number'''\n",
    "    \n",
    "    str1 = str(num)\n",
    "    for i in range (len(str1)):\n",
    "        if int(str1[:i+1]) % (i+1)!=0:\n",
    "            return 'False'\n",
    "        \n",
    "    return 'True'\n",
    "\n",
    "num = 1232\n",
    "print(f'The number {num} is polydivisible =>', is_polydivisible(num))\n",
    "\n",
    "num = 123220\n",
    "print(f'The number {num} is polydivisible =>', is_polydivisible(num))"
   ]
  },
  {
   "cell_type": "code",
   "execution_count": 30,
   "id": "269be857",
   "metadata": {},
   "outputs": [
    {
     "name": "stdout",
     "output_type": "stream",
     "text": [
      "sum_primes([1, 2, 3, 4, 5, 6, 7, 8, 9, 10]) => 17\n",
      "sum_primes([2, 3, 4, 11, 20, 50, 71]) => 87\n",
      "sum_primes([]) => None\n"
     ]
    }
   ],
   "source": [
    "'''Q.5 Create a function that takes a list of numbers and returns the sum of all prime numbers in the list.'''\n",
    "\n",
    "def sum_primes(list1):\n",
    "    '''list of numbers and returns the sum of all prime numbers in the list'''\n",
    "    \n",
    "    prime_sum = 0\n",
    "    for i in list1:\n",
    "        if i == 0 or i == 1:\n",
    "            continue\n",
    "        else:\n",
    "            for j in range(2, int(i/2)+1):\n",
    "                if i % j == 0:\n",
    "                    break\n",
    "            else:\n",
    "                prime_sum = prime_sum + i\n",
    "    \n",
    "    if list1 == []:\n",
    "        prime_sum = 'None'\n",
    "        \n",
    "    return f'sum_primes({list1}) => {prime_sum}'\n",
    "\n",
    "print(sum_primes([1, 2, 3, 4, 5, 6, 7, 8, 9, 10]))\n",
    "print(sum_primes([2, 3, 4, 11, 20, 50, 71]))\n",
    "print(sum_primes([]))"
   ]
  }
 ],
 "metadata": {
  "kernelspec": {
   "display_name": "Python 3",
   "language": "python",
   "name": "python3"
  },
  "language_info": {
   "codemirror_mode": {
    "name": "ipython",
    "version": 3
   },
   "file_extension": ".py",
   "mimetype": "text/x-python",
   "name": "python",
   "nbconvert_exporter": "python",
   "pygments_lexer": "ipython3",
   "version": "3.8.8"
  }
 },
 "nbformat": 4,
 "nbformat_minor": 5
}
