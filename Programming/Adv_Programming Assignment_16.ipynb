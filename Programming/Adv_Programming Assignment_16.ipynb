{
 "cells": [
  {
   "cell_type": "code",
   "execution_count": 53,
   "id": "67813e22",
   "metadata": {},
   "outputs": [
    {
     "name": "stdout",
     "output_type": "stream",
     "text": [
      "ABACADAEAFAGAHAIAJA ----> True\n",
      "ABA ----> True\n",
      "ABBACCA ----> False\n",
      "ACAA ----> False\n"
     ]
    }
   ],
   "source": [
    "'''Q.1 Rondo Form is a type of musical structure, in which there is a recurring theme/refrain, notated as A.\n",
    "Here are the rules for valid rondo forms Rondo forms always start and end with an A section.\n",
    "In between the A sections, there should be contrasting sections notated as B, then C, then D, etc... \n",
    "No letter should be skipped. There shouldn't be any repeats in the sequence (such as ABBACCA).\n",
    "Create a function which validates whether a given string is a valid Rondo Form.'''\n",
    "\n",
    "import string as stri\n",
    "def valid_rondo(string):\n",
    "    '''Rondo form in a string'''\n",
    "    \n",
    "    result = 'True'\n",
    "    if string[0] != 'A' or string[len(string)-1] !='A':\n",
    "        result = 'False'\n",
    "    \n",
    "    list1 = []\n",
    "    for i in range(len(string)):\n",
    "        if string[i] !='A':\n",
    "            list1.append(string[i])\n",
    "            for j in range(i+1, len(string)):\n",
    "                if string[i] == string[j]:\n",
    "                    result = 'False'\n",
    "                    \n",
    "    letter = stri.ascii_uppercase[1:len(list1)+1]           \n",
    "    for i in range(len(letter)):\n",
    "        if list1[i] != letter[i]:\n",
    "            result = 'False'\n",
    "\n",
    "            \n",
    "    return f'{string} ----> {result}'\n",
    "\n",
    "print(valid_rondo('ABACADAEAFAGAHAIAJA'))\n",
    "print(valid_rondo('ABA'))\n",
    "print(valid_rondo('ABBACCA'))\n",
    "print(valid_rondo('ACAA'))"
   ]
  },
  {
   "cell_type": "code",
   "execution_count": 9,
   "id": "18516c57",
   "metadata": {},
   "outputs": [
    {
     "name": "stdout",
     "output_type": "stream",
     "text": [
      "txt = I have a cat.I have a mat.Things are going swell\n",
      "sentence_searcher(txt, have) -----> I have a cat\n",
      "sentence_searcher(txt, MAT) -----> I have a mat\n",
      "sentence_searcher(txt, things) -----> Things are going swell\n",
      "sentence_searcher(txt, flat) -----> \"\"\n"
     ]
    }
   ],
   "source": [
    "'''Q.2 Create a function that returns the whole of the first sentence which contains a specific word. \n",
    "Include the full stop at the end of the sentence.'''\n",
    "\n",
    "def sentence_searcher(txt, word):\n",
    "    '''returns the whole of the first sentence which contains a specific word'''\n",
    "    \n",
    "    for i in txt.split('.'):\n",
    "        if word.lower() in i.lower():\n",
    "            res = i\n",
    "            break\n",
    "        else:\n",
    "            res = '\"\"'\n",
    "\n",
    "    return f\"sentence_searcher(txt, {word}) -----> {res}\"\n",
    "    \n",
    "txt = 'I have a cat.I have a mat.Things are going swell'\n",
    "print('txt = {}'.format(txt))\n",
    "print(sentence_searcher(txt, 'have'))\n",
    "print(sentence_searcher(txt, 'MAT'))\n",
    "print(sentence_searcher(txt, 'things'))\n",
    "print(sentence_searcher(txt, 'flat'))"
   ]
  },
  {
   "cell_type": "code",
   "execution_count": 36,
   "id": "12152468",
   "metadata": {},
   "outputs": [
    {
     "name": "stdout",
     "output_type": "stream",
     "text": [
      "sum_round(101) -----> 1 100 \n",
      "sum_round(1234) -----> 4 30 200 1000 \n",
      "sum_round(54210) -----> 10 200 4000 50000 \n"
     ]
    }
   ],
   "source": [
    "'''Q.3 Given a number, find the round of each digit of the number. An integer is called round if all its digits except \n",
    "the leftmost (most significant) are equal to zero. - Round numbers: 4000, 1, 9, 800, 90 - Not round numbers: 110, 707, 222, 1001\n",
    "\n",
    "Create a function that takes a number and returns the round of each digit (except if the digit is zero) as a string.\n",
    "Check out the following examples for more clarification.'''\n",
    "\n",
    "def sum_round(number):\n",
    "    '''returns the &quot;round&quot; of each digit except if the digit is zero as a string.'''\n",
    "    \n",
    "    base = 1\n",
    "    num = ''\n",
    "    str_num = str(number)[::-1]\n",
    "\n",
    "    for i in range(len(str_num)):\n",
    "        if i == 0:\n",
    "            value = int(str_num[i]) * base\n",
    "            if value > 0:\n",
    "                num = num + str(value)\n",
    "                num = num + ' '\n",
    "            else:\n",
    "                num = num + ''\n",
    "        \n",
    "        else:\n",
    "            base = base * 10\n",
    "            value = int(str_num[i]) * base\n",
    "            if value > 0:\n",
    "                num = num + str(value)\n",
    "                num = num + ' '\n",
    "            else:\n",
    "                num = num + ''\n",
    "            \n",
    "    return f'sum_round({number}) -----> {num}'\n",
    "\n",
    "print(sum_round(101))\n",
    "print(sum_round(1234))\n",
    "print(sum_round(54210))"
   ]
  },
  {
   "cell_type": "code",
   "execution_count": 43,
   "id": "e903c17c",
   "metadata": {},
   "outputs": [
    {
     "name": "stdout",
     "output_type": "stream",
     "text": [
      "multiplication(1) ----> [[1]]\n",
      "multiplication(3) ----> [[1, 2, 3], [2, 4, 6], [3, 6, 9]]\n",
      "multiplication(5) ----> [[1, 2, 3, 4, 5], [2, 4, 6, 8, 10], [3, 6, 9, 12, 15], [4, 8, 12, 16, 20], [5, 10, 15, 20, 25]]\n"
     ]
    }
   ],
   "source": [
    "'''Q.4 Your task, is to create N x N multiplication table, of size n provided in parameter.\n",
    "For example, when n is 5, the multiplication table is:\n",
    "    - 1, 2, 3, 4, 5\n",
    "    - 2, 4, 6, 8, 10\n",
    "    - 3, 6, 9, 12, 15\n",
    "    - 4, 8, 12, 16, 20\n",
    "    - 5, 10, 15, 20, 25\n",
    "This example will result in:\n",
    "[[1, 2, 3, 4, 5], [2, 4, 6, 8, 10], [3, 6, 9, 12, 15], [4, 8, 12, 16, 20], [5, 10, 15, 20,25]]'''\n",
    "\n",
    "def multiplication_table(number):\n",
    "    '''Multiplication table'''\n",
    "    \n",
    "    list1 = []\n",
    "    for i in range(1, number+1):\n",
    "        for j in range(1,number+1):\n",
    "            list1.append(i*j)\n",
    "    \n",
    "    l = [list1[i:i+number] for i in range(0, len(list1), number)]     \n",
    "    return f'multiplication({number}) ----> {l}'\n",
    "\n",
    "print(multiplication_table(1))\n",
    "print(multiplication_table(3))\n",
    "print(multiplication_table(5))\n",
    "            "
   ]
  },
  {
   "cell_type": "code",
   "execution_count": 106,
   "id": "83e45df7",
   "metadata": {},
   "outputs": [
    {
     "name": "stdout",
     "output_type": "stream",
     "text": [
      "Sam I am\n",
      "Green eggs and ham\n",
      "True\n",
      "\n",
      "Sam I am\n",
      "Green eggs and HAM\n",
      "True\n",
      "\n",
      "You are off to the races\n",
      "a splendid day\n",
      "False\n",
      "\n",
      "and frequently doe\n",
      "you gotta move\n",
      "True\n",
      "\n"
     ]
    }
   ],
   "source": [
    "'''Q.5 Create a function that returns True if two lines rhyme and False otherwise. For the purposes of this exercise,\n",
    "two lines rhyme if the last word from each sentence contains the same vowels.'''\n",
    "\n",
    "import re\n",
    "def does_rhyme(str1, str2):\n",
    "    '''Return true two line rhyme and false otherwise'''\n",
    "    \n",
    "    str1 = re.sub('[!#$?.]', '', str1)\n",
    "    str2 = re.sub('[!#$?.]', '', str2)\n",
    "    \n",
    "    str11 = str1.split(' ')\n",
    "    str22 = str2.split(' ')\n",
    "    \n",
    "    vowel = 'AEIOUaeiou'\n",
    "    result = 'True'\n",
    "    v1 = ''\n",
    "    v2 = ''\n",
    "    for i in str11[len(str11)-1]:\n",
    "        if i in vowel:\n",
    "            v1 = v1 + i.lower()\n",
    "    \n",
    "    for j in str22[len(str22)-1]:\n",
    "        if j in vowel:\n",
    "            v2 = v2 + j.lower()\n",
    "            \n",
    "    result = 'True' \n",
    "    if len(v1) != len(v2):\n",
    "        result = 'False'\n",
    "    else:\n",
    "        for i in range(len(v1)):\n",
    "            if v1[i] != v2[i]:\n",
    "                result = 'False'\n",
    "\n",
    "    return f'{str1}\\n{str2}\\n{result}\\n'\n",
    "        \n",
    "print(does_rhyme('Sam I am!','Green eggs and ham'))\n",
    "print(does_rhyme('Sam I am!','Green eggs and HAM'))\n",
    "print(does_rhyme('You are off to the races','a splendid day.'))\n",
    "print(does_rhyme('and frequently do?','you gotta move.'))"
   ]
  }
 ],
 "metadata": {
  "kernelspec": {
   "display_name": "Python 3",
   "language": "python",
   "name": "python3"
  },
  "language_info": {
   "codemirror_mode": {
    "name": "ipython",
    "version": 3
   },
   "file_extension": ".py",
   "mimetype": "text/x-python",
   "name": "python",
   "nbconvert_exporter": "python",
   "pygments_lexer": "ipython3",
   "version": "3.8.8"
  }
 },
 "nbformat": 4,
 "nbformat_minor": 5
}
