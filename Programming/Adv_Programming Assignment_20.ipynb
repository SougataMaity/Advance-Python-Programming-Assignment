{
 "cells": [
  {
   "cell_type": "code",
   "execution_count": 7,
   "id": "a80ccdf0",
   "metadata": {},
   "outputs": [
    {
     "name": "stdout",
     "output_type": "stream",
     "text": [
      "secret(p.one.two.three) => <p class='one two three'></p>\n",
      "secret(p.one) => <p class='one'></p>\n",
      "secret(p.four.five) => <p class='four five'></p>\n"
     ]
    }
   ],
   "source": [
    "'''Q.1 Create a function based on the input and output. Look at the examples there is a pattern.'''\n",
    "\n",
    "def secret(str1):\n",
    "    res = ''\n",
    "    for i in str1[2::]:\n",
    "        if i == '.':\n",
    "            res +=\" \"\n",
    "        else:\n",
    "            res +=i\n",
    "            \n",
    "    return f\"secret({str1}) => <p class='{res}'></p>\"\n",
    "\n",
    "print(secret('p.one.two.three'))\n",
    "print(secret('p.one'))\n",
    "print(secret('p.four.five'))"
   ]
  },
  {
   "cell_type": "code",
   "execution_count": 21,
   "id": "eb4f4b2e",
   "metadata": {},
   "outputs": [
    {
     "name": "stdout",
     "output_type": "stream",
     "text": [
      "count_lone_ones(101) => 2\n",
      "count_lone_ones(1191) => 1\n",
      "count_lone_ones(1111) => 0\n",
      "count_lone_ones(462) => 0\n"
     ]
    }
   ],
   "source": [
    "'''Q.2 Create a function which counts how many lone 1s appear in a given number. Lone means the number \n",
    "doesn't appear twice or more in a row.'''\n",
    "\n",
    "def count_lone_ones(num):\n",
    "    res = 0\n",
    "    str_num = str(num)\n",
    "    if str_num.count('1') != len(str_num):\n",
    "        for i in range(len(str_num)-1):\n",
    "            if str_num[i] =='1':\n",
    "                if str_num[i+1] != '1':\n",
    "                    res +=1\n",
    "                else:\n",
    "                    res = res -1\n",
    "            else:\n",
    "                if str_num[i+1] == '1':\n",
    "                    res +=1\n",
    "\n",
    "    return f\"count_lone_ones({num}) => {res}\"\n",
    "\n",
    "print(count_lone_ones(101))\n",
    "print(count_lone_ones(1191))\n",
    "print(count_lone_ones(1111))\n",
    "print(count_lone_ones(462))"
   ]
  },
  {
   "cell_type": "code",
   "execution_count": 16,
   "id": "ff1ad239",
   "metadata": {},
   "outputs": [
    {
     "data": {
      "text/plain": [
       "4"
      ]
     },
     "execution_count": 16,
     "metadata": {},
     "output_type": "execute_result"
    }
   ],
   "source": [
    "'\n",
    "a ='1111'\n",
    "a.count('1')"
   ]
  },
  {
   "cell_type": "code",
   "execution_count": 17,
   "id": "d2f008f5",
   "metadata": {},
   "outputs": [
    {
     "name": "stdout",
     "output_type": "stream",
     "text": [
      "printGrid(3,6)\n",
      "[[ 1  4  7 10 13 16]\n",
      " [ 2  5  8 11 14 17]\n",
      " [ 3  6  9 12 15 18]]\n",
      "\n",
      "printGrid(5,3)\n",
      "[[ 1  6 11]\n",
      " [ 2  7 12]\n",
      " [ 3  8 13]\n",
      " [ 4  9 14]\n",
      " [ 5 10 15]]\n",
      "\n",
      "printGrid(4,1)\n",
      "[[1]\n",
      " [2]\n",
      " [3]\n",
      " [4]]\n",
      "\n"
     ]
    }
   ],
   "source": [
    "'''Q.3 Write a method that accepts two integer parameters rows and cols. The output is a 2d array of numbers displayed\n",
    "in column-major order, meaning the numbers shown increase sequentially down each column and wrap to the top of the next \n",
    "column to the right once the bottom of the current column is reached.'''\n",
    "\n",
    "import numpy as np\n",
    "def printGrid(row, column):\n",
    "    num = [x for x in range(1, (row*column+1))]\n",
    "    mat = np.array(num).reshape(column, row)\n",
    "    return f\"printGrid({row},{column})\\n{np.transpose(mat)}\\n\"\n",
    "\n",
    "print(printGrid(3,6))\n",
    "print(printGrid(5,3))\n",
    "print(printGrid(4,1))"
   ]
  },
  {
   "cell_type": "code",
   "execution_count": 30,
   "id": "b0303c3c",
   "metadata": {},
   "outputs": [
    {
     "name": "stdout",
     "output_type": "stream",
     "text": [
      "min_miss_pose([-2, 6, 4, 5, 7, -1, 1, 3, 6, -2, 9, 10, 2, 2]) => 8\n",
      "min_miss_pose([5, 9, -2, 0, 1, 3, 9, 3, 8, 9]) => 2\n",
      "min_miss_pose([0, 4, 4, -1, 9, 4, 5, 2, 10, 7, 6, 3, 10, 9]) => 1\n"
     ]
    }
   ],
   "source": [
    "'''Q.4 Given a list of integers, return the smallest positive integer not present in the list. Here is a representative example. Consider the list:\n",
    "[-2, 6, 4, 5, 7, -1, 7, 1, 3, 6, 6, -2, 9, 10, 2, 2]\n",
    "After reordering, the list becomes:\n",
    "[-2, -2, -1, 1, 2, 2, 3, 4, 5, 6, 6, 6, 7, 7, 9, 10]\n",
    "from which we see that the smallest missing positive integer is 8.'''\n",
    "\n",
    "def min_miss_pos(list):\n",
    "    range_list = [x for x in range(min(list), max(list)+1)]\n",
    "    for i in range_list:\n",
    "        if i>0:\n",
    "            if i not in list:\n",
    "                res = i\n",
    "                break\n",
    "    return f\"min_miss_pose({list}) => {res}\"       \n",
    "\n",
    "print(min_miss_pos([-2,6,4,5,7,-1,1,3,6,-2,9,10,2,2]))\n",
    "print(min_miss_pos([5, 9, -2, 0, 1, 3, 9, 3, 8, 9]))\n",
    "print(min_miss_pos([0, 4, 4, -1, 9, 4, 5, 2, 10, 7, 6, 3, 10, 9]))"
   ]
  },
  {
   "cell_type": "code",
   "execution_count": 9,
   "id": "8b27cf5b",
   "metadata": {},
   "outputs": [
    {
     "name": "stdout",
     "output_type": "stream",
     "text": [
      "pizza_point(customers, 5, 20) => ['Spider-Man']\n",
      "pizza_point(customers, 3, 10) => ['Batman', 'Spider-Man']\n",
      "pizza_point(customers, 5, 100) => []\n"
     ]
    }
   ],
   "source": [
    "'''Q.5 Google is launching a network of autonomous pizza delivery drones and wants you to create a flexible rewards \n",
    "system (Pizza Points™) that can be tweaked in the future. The rules are simple: if a customer has made at least N\n",
    "orders of at least Y price, they get a FREE pizza! Create a function that takes a dictionary of customers, a minimum \n",
    "number of orders and a minimum order price. Return a list of customers that are eligible\n",
    "for a free pizza.'''\n",
    "\n",
    "def pizza_point(customer, min_order, min_price):\n",
    "    length_dict = {key: len([i for i in value if i>min_price])\n",
    "                   for key, value in customers.items()}\n",
    "\n",
    "    if length_dict['Batman'] == length_dict['Spider-Man']:\n",
    "        if length_dict['Batman'] >0:\n",
    "            res = ['Batman', 'Spider-Man']\n",
    "        else:\n",
    "            res = []\n",
    "    elif length_dict['Batman'] > length_dict['Spider-Man']:\n",
    "        res = ['Batman']\n",
    "\n",
    "    elif length_dict['Batman'] < length_dict['Spider-Man']:\n",
    "        res = ['Spider-Man']\n",
    "    \n",
    "    return f\"pizza_point(customers, {min_order}, {min_price}) => {res}\"\n",
    "\n",
    "customers = {\n",
    "\"Batman\": [22, 30, 11, 17, 15, 52, 27, 12],\n",
    "\"Spider-Man\": [5, 17, 30, 33, 40, 22, 26, 10,11,45]\n",
    "}\n",
    "\n",
    "print(pizza_point(customers, 5, 20))\n",
    "print(pizza_point(customers, 3, 10))\n",
    "print(pizza_point(customers, 5, 100))"
   ]
  },
  {
   "cell_type": "code",
   "execution_count": null,
   "id": "6c3bbbbd",
   "metadata": {},
   "outputs": [],
   "source": []
  }
 ],
 "metadata": {
  "kernelspec": {
   "display_name": "Python 3 (ipykernel)",
   "language": "python",
   "name": "python3"
  },
  "language_info": {
   "codemirror_mode": {
    "name": "ipython",
    "version": 3
   },
   "file_extension": ".py",
   "mimetype": "text/x-python",
   "name": "python",
   "nbconvert_exporter": "python",
   "pygments_lexer": "ipython3",
   "version": "3.9.7"
  }
 },
 "nbformat": 4,
 "nbformat_minor": 5
}
