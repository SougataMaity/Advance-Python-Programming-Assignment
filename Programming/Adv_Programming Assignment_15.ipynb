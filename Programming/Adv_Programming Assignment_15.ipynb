{
 "cells": [
  {
   "cell_type": "code",
   "execution_count": 16,
   "id": "e1cef5c1",
   "metadata": {},
   "outputs": [
    {
     "name": "stdout",
     "output_type": "stream",
     "text": [
      "anagram(Justin Bieber,['injures', 'ebb', 'it']) => True\n",
      "anagram(Natalie Portman,['ornamental', 'pita']) => True\n",
      "anagram(Chris Pratt,['chirps', 'rat']) => False\n",
      "anagram(Jeff Goldblum,['jog', 'meld', 'bluffs']) => False\n"
     ]
    }
   ],
   "source": [
    "'''Q.1 Write a function that returns True if a given name can generate an array of\n",
    "words.'''\n",
    "\n",
    "def anagram(str, list1):\n",
    "    \n",
    "    new_str = \"\"\n",
    "    for i in str:\n",
    "        if i != \" \":\n",
    "            new_str += i\n",
    "            \n",
    "    com_str = \"\"\n",
    "    for i in list1:\n",
    "        for j in i:\n",
    "            com_str += j\n",
    "            \n",
    "    res = 'False' \n",
    "    if len(new_str) == len(com_str):\n",
    "        for i in new_str:\n",
    "            if i in com_str:\n",
    "                res = 'True'\n",
    "            \n",
    "    return f\"anagram({str},{list1}) => {res}\"\n",
    "\n",
    "print(anagram(\"Justin Bieber\", [\"injures\", \"ebb\", \"it\"]))\n",
    "print(anagram(\"Natalie Portman\", [\"ornamental\", \"pita\"]))\n",
    "print(anagram(\"Chris Pratt\", [\"chirps\", \"rat\"]))\n",
    "print(anagram(\"Jeff Goldblum\", [\"jog\", \"meld\", \"bluffs\"]))"
   ]
  },
  {
   "cell_type": "code",
   "execution_count": 4,
   "id": "7abb58e7",
   "metadata": {},
   "outputs": [
    {
     "name": "stdout",
     "output_type": "stream",
     "text": [
      "hangman(helicopter, ['o', 'e', 's']) => -e---o--e-\n",
      "hangman(tree, ['r', 't', 'e']) => tree\n",
      "hangman(Python rules, ['a', 'n', 'p', 'r', 'z']) => -----n-r----\n",
      "hangman(He's a very naughty boy!, ['e', 'a', 'y']) => -e---a--e-y--a----y---y-\n"
     ]
    }
   ],
   "source": [
    "'''Q.3 Create a function that, given a phrase and a number of letters guessed,\n",
    "returns a string with hyphens - for every letter of the phrase not guessed, and\n",
    "each letter guessed in place.'''\n",
    "\n",
    "def hangman(str, input_list):\n",
    "    res = \"\"\n",
    "    for i in str:\n",
    "        if i in input_list:\n",
    "            res += i\n",
    "        else:\n",
    "            res += \"-\"\n",
    "            \n",
    "    return f\"hangman({str}, {input_list}) => {res}\"\n",
    "\n",
    "print(hangman(\"helicopter\", [\"o\", \"e\", \"s\"]))\n",
    "print(hangman(\"tree\", [\"r\", \"t\", \"e\"]))\n",
    "print(hangman(\"Python rules\", [\"a\", \"n\", \"p\", \"r\", \"z\"]))\n",
    "print(hangman(\"He's a very naughty boy!\", [\"e\", \"a\", \"y\"]))"
   ]
  },
  {
   "cell_type": "code",
   "execution_count": 12,
   "id": "c73858bb",
   "metadata": {},
   "outputs": [
    {
     "name": "stdout",
     "output_type": "stream",
     "text": [
      "max_collatz(1.0) => 16\n",
      "Series : [10, 5.0, 16.0, 8.0, 4.0, 2.0, 1.0]\n",
      "max_collatz(1.0) => 32\n",
      "Series : [32, 16.0, 8.0, 4.0, 2.0, 1.0]\n",
      "max_collatz(1.0) => 256\n",
      "Series : [85, 256, 128.0, 64.0, 32.0, 16.0, 8.0, 4.0, 2.0, 1.0]\n"
     ]
    }
   ],
   "source": [
    "'''Q.4 The Collatz sequence is as follows:\n",
    "        - Start with some given integer n.\n",
    "        - If it is even, the next number will be n divided by 2.\n",
    "        - If it is odd, multiply it by 3 and add 1 to make the next number.\n",
    "        - The sequence stops when it reaches 1.\n",
    "According to the Collatz conjecture, it will always reach 1. If that&#39;s true, you\n",
    "can construct a finite sequence following the aforementioned method for any\n",
    "given integer.\n",
    "Write a function that takes in an integer n and returns the highest integer in\n",
    "the corresponding Collatz sequence.'''\n",
    "\n",
    "def max_collatz(num):\n",
    "    list1 = [num]\n",
    "    i = 0\n",
    "    while num!=1:\n",
    "        if num%2 == 0:\n",
    "            num = num/2\n",
    "            list1.append(num)\n",
    "        else:\n",
    "            num = num*3 + 1\n",
    "            list1.append(num)\n",
    "        i = i+1\n",
    "    return f\"max_collatz({num}) => {int(max((list1)))}\\nSeries : {list1}\"\n",
    "\n",
    "print(max_collatz(10))\n",
    "print(max_collatz(32))\n",
    "print(max_collatz(85))"
   ]
  },
  {
   "cell_type": "code",
   "execution_count": 40,
   "id": "d68748ab",
   "metadata": {},
   "outputs": [
    {
     "name": "stdout",
     "output_type": "stream",
     "text": [
      "digit_sort([77, 23, 5, 7, 101]) => [101, 23, 77, 5, 7]\n",
      "digit_sort([444, 563, 789, 1, 2, 5, 9]) => [444, 563, 789, 1, 2, 5, 9]\n",
      "digit_sort([3772, 564, 32, 1, 53219]) => [53219, 3772, 564, 32, 1]\n"
     ]
    }
   ],
   "source": [
    "'''Q.5 Write a function that sorts a list of integers by their digit length in\n",
    "descending order, then settles ties by sorting numbers with the same digit\n",
    "length in ascending order.'''\n",
    "\n",
    "def digit_sort(input_list):\n",
    "    \n",
    "    list1 = sorted(input_list)[::-1]\n",
    "    for i in range(len(list1)):\n",
    "        for j in range(i+1, len(list1)):\n",
    "            if len(str(list1[i])) == len(str(list1[j])):\n",
    "                if list1[i]>list1[j]:\n",
    "                    list1[i], list1[j] = list1[j], list1[i]\n",
    "    \n",
    "    return f\"digit_sort({input_list}) => {list1}\"\n",
    "\n",
    "print(digit_sort([77,23,5,7,101]))\n",
    "print(digit_sort([444,563,789,1,2,5,9]))\n",
    "print(digit_sort([3772,564,32,1,53219]))"
   ]
  },
  {
   "cell_type": "code",
   "execution_count": null,
   "id": "5478835c",
   "metadata": {},
   "outputs": [],
   "source": []
  }
 ],
 "metadata": {
  "kernelspec": {
   "display_name": "Python 3 (ipykernel)",
   "language": "python",
   "name": "python3"
  },
  "language_info": {
   "codemirror_mode": {
    "name": "ipython",
    "version": 3
   },
   "file_extension": ".py",
   "mimetype": "text/x-python",
   "name": "python",
   "nbconvert_exporter": "python",
   "pygments_lexer": "ipython3",
   "version": "3.9.7"
  }
 },
 "nbformat": 4,
 "nbformat_minor": 5
}
