{
 "cells": [
  {
   "cell_type": "code",
   "execution_count": 37,
   "id": "bf314621",
   "metadata": {},
   "outputs": [
    {
     "name": "stdout",
     "output_type": "stream",
     "text": [
      "remove_letters(['s', 't', 'r', 'i', 'n', 'g', 'w'],string) => ['w']\n",
      "remove_letters(['b', 'b', 'l', 'l', 'g', 'n', 'o', 'a', 'w'],ballon) => ['b', 'g', 'w']\n"
     ]
    }
   ],
   "source": [
    "'''Q.1 Create a function that takes a list and string. The function should remove the letters in the string from the list,\n",
    "and return the list.'''\n",
    "\n",
    "def remove_letters(list1, name):\n",
    "    '''remove the letters in the string from the list, and return the list'''\n",
    "    \n",
    "    result = []\n",
    "    for i in list1:\n",
    "        if i in name:\n",
    "            if list1.count(i) != name.count(i):\n",
    "                result.append(i)\n",
    "        else:\n",
    "            result.append(i)\n",
    "            \n",
    "    return f'remove_letters({list1},{name}) => {sorted(set(result))}'\n",
    "\n",
    "print(remove_letters(['s','t','r','i','n','g','w'], 'string'))\n",
    "print(remove_letters(['b','b','l','l','g','n','o','a','w'], 'ballon'))"
   ]
  },
  {
   "cell_type": "code",
   "execution_count": 7,
   "id": "98971af5",
   "metadata": {},
   "outputs": [
    {
     "name": "stdout",
     "output_type": "stream",
     "text": [
      "blocks(1) => 5\n",
      "blocks(2) => 12\n",
      "blocks(5) => 39\n"
     ]
    }
   ],
   "source": [
    "'''Q.2 A block sequence in three dimensions. We can write a formula for this one\n",
    "Create a function that takes a number (step) as an argument and returns the amount of blocks in that step.'''\n",
    "\n",
    "def blocks(n):\n",
    "    '''\n",
    "    Step number to return the blocks\n",
    "    result = a*n^2 + b*n + c\n",
    "    where a,b and c constant and vales are\n",
    "    a = 0.5, b = (22/4) and c = -1\n",
    "    '''\n",
    "    \n",
    "    result = 0.5*n**2 + (22/4)*n -1\n",
    "    return f'blocks({n}) => {int(result)}'\n",
    "\n",
    "print(blocks(1))\n",
    "print(blocks(2))\n",
    "print(blocks(5))"
   ]
  },
  {
   "cell_type": "code",
   "execution_count": 14,
   "id": "030d2997",
   "metadata": {},
   "outputs": [
    {
     "name": "stdout",
     "output_type": "stream",
     "text": [
      "my_sub(5, 9) => 4\n",
      "my_sub(10, 30) => 20\n",
      "my_sub(0, 0) => 0\n"
     ]
    }
   ],
   "source": [
    "'''Q.3 Create a function that subtracts one positive integer from another, without using any arithmetic operators \n",
    "such as -, %, /, +, etc.'''\n",
    "\n",
    "def my_sub(num1, num2):\n",
    "    '''subtracts one positive integer from another, without using any arithmetic operators'''\n",
    "    \n",
    "    list1 = []\n",
    "    for i in range(num1, num2):\n",
    "        list1.append(i)\n",
    "        \n",
    "    return f'my_sub({num1}, {num2}) => {len(list1)}'\n",
    "\n",
    "print(my_sub(5,9))\n",
    "print(my_sub(10,30))\n",
    "print(my_sub(0,0))"
   ]
  },
  {
   "cell_type": "code",
   "execution_count": 42,
   "id": "cf34a61a",
   "metadata": {},
   "outputs": [
    {
     "name": "stdout",
     "output_type": "stream",
     "text": [
      "add_bill(d20,p40,p60,d50) => 70\n",
      "add_bill(p30,d20,p60,d150,p360) => 170\n",
      "add_bill(p30,d2k,p60,d200,p360) => 2200\n"
     ]
    }
   ],
   "source": [
    "'''Q.4 Create a function that takes a string containing money in dollars and pounds sterling (seperated by comma) and \n",
    "returns the sum of dollar bills only, as an integer.'''\n",
    "\n",
    "def add_bill(str1):\n",
    "    '''takes a string containing money in dollars and pounds sterling\n",
    "    returns the sum of dollar bills only, as an integer'''\n",
    "    \n",
    "    amount = 0\n",
    "    for i in str1.split(','):\n",
    "        if 'd' in i:\n",
    "            if 'k' not in i:\n",
    "                amount = amount + int(i[1::])\n",
    "            else:\n",
    "                amount = amount + int(i[1:len(i)-1])*1000\n",
    "    \n",
    "    return f'add_bill({str1}) => {amount}'\n",
    "            \n",
    "print(add_bill('d20,p40,p60,d50'))\n",
    "print(add_bill('p30,d20,p60,d150,p360'))\n",
    "print(add_bill('p30,d2k,p60,d200,p360'))"
   ]
  },
  {
   "cell_type": "code",
   "execution_count": 50,
   "id": "b2d109bc",
   "metadata": {},
   "outputs": [
    {
     "name": "stdout",
     "output_type": "stream",
     "text": [
      "flip_list([1, 2, 3, 4]) => [[1], [2], [3], [4]]\n",
      "flip_list([[5], [6], [9]]) => [5, 6, 9]\n",
      "flip_list([]) => []\n"
     ]
    }
   ],
   "source": [
    "'''Q.5 Create a function that flips a horizontal list into a vertical list, and a vertical list into a horizontal list.\n",
    "In other words, take an 1 x n list (1 row + n columns) and flip it into a n x 1 list (n rows and 1 column), and vice versa.'''\n",
    "\n",
    "def flip_list(list1):\n",
    "    '''flips a horizontal list into a vertical list, and a vertical list into a horizontal list'''\n",
    "    \n",
    "    list2 = []\n",
    "    for i in list1:\n",
    "        if type(i) == list:\n",
    "            for j in i:\n",
    "                list2.append(j)\n",
    "        else:\n",
    "            list2.append([i])\n",
    "    \n",
    "    return f'flip_list({list1}) => {list2}'\n",
    "\n",
    "print(flip_list([1,2,3,4]))\n",
    "print(flip_list([[5],[6],[9]]))\n",
    "print(flip_list([]))            "
   ]
  }
 ],
 "metadata": {
  "kernelspec": {
   "display_name": "Python 3",
   "language": "python",
   "name": "python3"
  },
  "language_info": {
   "codemirror_mode": {
    "name": "ipython",
    "version": 3
   },
   "file_extension": ".py",
   "mimetype": "text/x-python",
   "name": "python",
   "nbconvert_exporter": "python",
   "pygments_lexer": "ipython3",
   "version": "3.8.8"
  }
 },
 "nbformat": 4,
 "nbformat_minor": 5
}
