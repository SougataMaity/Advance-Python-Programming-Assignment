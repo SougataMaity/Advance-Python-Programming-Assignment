{
 "cells": [
  {
   "cell_type": "code",
   "execution_count": 7,
   "id": "7ef7f817",
   "metadata": {},
   "outputs": [
    {
     "name": "stdout",
     "output_type": "stream",
     "text": [
      "count_layers(('AAAA', 'ABBA', 'AAAA')) --->  2\n",
      "count_layers(('AAAAAAAAA', 'ABBBBBBBA', 'ABBAAABBA', 'AAAAAAAAA', 'ABBBBBBBA')) --->  3\n"
     ]
    }
   ],
   "source": [
    "'''Q.1 Write a function that counts how many concentic layers a rug'''\n",
    "\n",
    "def count_layers(*comma_seperated_string):\n",
    "    '''counts how many concentic layers a rug'''\n",
    "    \n",
    "    list1 = []\n",
    "    for i in comma_seperated_string:\n",
    "        if i not in list1:\n",
    "            list1.append(i)\n",
    "    return f'count_layers({comma_seperated_string}) --->  {len(list1)}'\n",
    "            \n",
    "\n",
    "print(count_layers(\"AAAA\",\"ABBA\",'AAAA'))\n",
    "print(count_layers(\"AAAAAAAAA\", \"ABBBBBBBA\",\"ABBAAABBA\",\"AAAAAAAAA\", \"ABBBBBBBA\"))\n"
   ]
  },
  {
   "cell_type": "code",
   "execution_count": 6,
   "id": "2cc1b174",
   "metadata": {},
   "outputs": [
    {
     "name": "stdout",
     "output_type": "stream",
     "text": [
      "('Dub,Dancehall', 'Industrial, Heavy Metal', 'Techno, Dubstep', 'Synth-pop,Euro-Disco', 'Industrial, Techno, Minimal') => 9\n",
      "('Soul', 'House,Folk', 'Trance,Downtempo,Big Beat,House', 'Deep House', 'Soul') => 7\n"
     ]
    }
   ],
   "source": [
    "'''Q.2 There are many different styles of music and many albums exhibit multiple styles. \n",
    "Create a function that takes a list of musical styles from albums and returns how many styles are unique.'''\n",
    "\n",
    "def unique_styles(comma_seperated_value):\n",
    "    '''list of musical styles from albums and returns how many styles are unique'''\n",
    "    \n",
    "    list1 = []\n",
    "    for i in comma_seperated_value:\n",
    "        for j in i.split(','):\n",
    "            if j.strip() not in list1:\n",
    "                list1.append(j.strip())\n",
    "    \n",
    "    return f'{comma_seperated_value} => {len(list1)}'\n",
    "\n",
    "value = \"Dub,Dancehall\",\"Industrial, Heavy Metal\",\"Techno, Dubstep\",\"Synth-pop,Euro-Disco\",\"Industrial, Techno, Minimal\"\n",
    "print(unique_styles(value))\n",
    "\n",
    "value = \"Soul\",\"House,Folk\",\"Trance,Downtempo,Big Beat,House\",\"Deep House\",\"Soul\"\n",
    "print(unique_styles(value))\n"
   ]
  },
  {
   "cell_type": "code",
   "execution_count": 44,
   "id": "187b819b",
   "metadata": {},
   "outputs": [
    {
     "name": "stdout",
     "output_type": "stream",
     "text": [
      "3 prime => Yes\n",
      "4 prime => no\n",
      "67 prime => Yes\n",
      "36 prime => no\n"
     ]
    }
   ],
   "source": [
    "'''Q.3 Create a function that finds a target number in a list of prime numbers. \n",
    "Implement a binary search algorithm in your function. The target number will be from 2 through 97. \n",
    "If the target is prime then return 'yes' else return 'no' '''\n",
    "\n",
    "def is_prime(primes,n):\n",
    "    \n",
    "    '''finds a target number in a list of prime numbers (2 to 97)\n",
    "    If the target is prime then return 'yes' else return no'''\n",
    "    \n",
    "    if n in primes:\n",
    "        result = 'Yes'\n",
    "    else:\n",
    "        result = 'no'\n",
    "        \n",
    "    return f'{n} prime => {result}'\n",
    "    \n",
    "\n",
    "primes = [2, 3, 5, 7, 11, 13, 17, 19, 23, 29, 31, 37, 41, 43, 47, 53, 59, 61, 67,\n",
    "71, 73, 79, 83, 89, 97]\n",
    "\n",
    "print(is_prime(primes, 3))\n",
    "print(is_prime(primes, 4))\n",
    "print(is_prime(primes, 67))\n",
    "print(is_prime(primes, 36))\n"
   ]
  },
  {
   "cell_type": "code",
   "execution_count": 131,
   "id": "fc31ed24",
   "metadata": {},
   "outputs": [
    {
     "name": "stdout",
     "output_type": "stream",
     "text": [
      "n=10, a=1, b=5 ----> 1\n",
      "n=5, a=31, b=33 ----> 1\n",
      "n=4, a=250, b=1300 ----> 3\n"
     ]
    }
   ],
   "source": [
    "'''Q.4 Create a function that takes in n, a, b and returns the number of positive\n",
    "values raised to the nth power that lie in the range [a, b], inclusive.'''\n",
    "\n",
    "def power_range(n,a,b):\n",
    "    \n",
    "    '''\n",
    "    Take n, a, b and returns the number of positive\n",
    "    values raised to the nth power that lie in the range [a, b]\n",
    "    '''\n",
    "    count = 0\n",
    "    for i in range(b):\n",
    "        if i**n >= a and i**n <= b:\n",
    "            count = count + 1\n",
    "            \n",
    "    return f'n={n}, a={a}, b={b} ----> {count}'\n",
    "\n",
    "print(power_range(10,1,5))\n",
    "print(power_range(5,31,33))\n",
    "print(power_range(4,250,1300))"
   ]
  },
  {
   "cell_type": "code",
   "execution_count": 1,
   "id": "f7e84b5d",
   "metadata": {},
   "outputs": [
    {
     "name": "stdout",
     "output_type": "stream",
     "text": [
      "rearrange_difference(972882) ----> 988722 - 227889 = 760833\n",
      "rearrange_difference(3320707) ----> 7733200 - 0023377 = 7709823\n",
      "rearrange_difference(90010) ----> 91000 - 00019 = 90981\n"
     ]
    }
   ],
   "source": [
    "'''Q.5 Given a number, return the difference between the maximim and minimum numbers \n",
    "that can be formed when the digits are rearrange'''\n",
    "\n",
    "def rearranged_difference(number):\n",
    "    ''' difference between the maximim and minimum numbers when the digits are rearrange'''\n",
    "    \n",
    "    res = ''\n",
    "    for i in str(number):\n",
    "        res = res + i\n",
    "    maximum = sorted(res)[::-1]\n",
    "    minimum = sorted(res)\n",
    "    \n",
    "    max = ''\n",
    "    min = ''\n",
    "    for i in maximum:\n",
    "        max = max + i \n",
    "    for j in minimum:\n",
    "        min = min + j\n",
    "        \n",
    "    return f'rearrange_difference({number}) ----> {max} - {min} = {int(max) - int(min)}'\n",
    "\n",
    "print(rearranged_difference(972882))\n",
    "print(rearranged_difference(3320707))\n",
    "print(rearranged_difference(90010))\n",
    "\n",
    "    "
   ]
  }
 ],
 "metadata": {
  "kernelspec": {
   "display_name": "Python 3",
   "language": "python",
   "name": "python3"
  },
  "language_info": {
   "codemirror_mode": {
    "name": "ipython",
    "version": 3
   },
   "file_extension": ".py",
   "mimetype": "text/x-python",
   "name": "python",
   "nbconvert_exporter": "python",
   "pygments_lexer": "ipython3",
   "version": "3.8.8"
  }
 },
 "nbformat": 4,
 "nbformat_minor": 5
}
