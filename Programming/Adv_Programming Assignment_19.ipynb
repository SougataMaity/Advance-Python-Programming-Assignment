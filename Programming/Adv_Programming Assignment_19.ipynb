{
 "cells": [
  {
   "cell_type": "code",
   "execution_count": 3,
   "id": "20001ae2",
   "metadata": {},
   "outputs": [
    {
     "name": "stdout",
     "output_type": "stream",
     "text": [
      "checker_board(2,7, 6) => [[7, 6], [6, 7]]\n",
      "checker_board(3,A, B) => [['A', 'B', 'A'], ['B', 'A', 'B'], ['A', 'B', 'A']]\n",
      "checker_board(4,c, d) => [['c', 'd', 'c', 'd'], ['d', 'c', 'd', 'c'], ['c', 'd', 'c', 'd'], ['d', 'c', 'd', 'c']]\n"
     ]
    }
   ],
   "source": [
    "'''Q.1 Create a checker board generator, which takes as inputs n and 2 elements to generate an n x n checkerboard \n",
    "with those two elements as alternating squares.'''\n",
    "\n",
    "def checker_board(repNum, ele1, ele2):\n",
    "    \n",
    "    list1 = []\n",
    "    if ele1 == ele2:\n",
    "        return f\"checker_board({repNum},{ele1}, {ele2}) => invalid\"\n",
    "    \n",
    "    else:\n",
    "        if repNum%2 == 0:    \n",
    "            for i in range(1, repNum+1):\n",
    "                if i%2 !=0:\n",
    "                    list1.append([ele1, ele2] * int(repNum/2))\n",
    "                else:\n",
    "                    list1.append([ele2, ele1] * int(repNum/2))\n",
    "        else:\n",
    "            for i in range(1, repNum+1):\n",
    "                if i%2 !=0:\n",
    "                    ele = [ele1, ele2] * int(repNum/2)\n",
    "                    ele.append(ele1)\n",
    "                    list1.append(ele)\n",
    "                else:\n",
    "                    ele = [ele2, ele1] * int(repNum/2)\n",
    "                    ele.append(ele2)\n",
    "                    list1.append(ele)\n",
    "            \n",
    "    return f\"checker_board({repNum},{ele1}, {ele2}) => {list1}\"\n",
    "\n",
    "\n",
    "print(checker_board(2, 7,6))  \n",
    "print(checker_board(3, \"A\",\"B\"))  \n",
    "print(checker_board(4, \"c\",\"d\"))  "
   ]
  },
  {
   "cell_type": "code",
   "execution_count": 51,
   "id": "c842bfbe",
   "metadata": {},
   "outputs": [
    {
     "name": "stdout",
     "output_type": "stream",
     "text": [
      "almost_palindrome(abcdcbg) => True\n",
      "almost_palindrome(abccia) => True\n",
      "almost_palindrome(abcdaaa) => False\n",
      "almost_palindrome(1234312) => False\n"
     ]
    }
   ],
   "source": [
    "'''Q.2 A string is an almost-palindrome if, by changing only one character, you can make it a palindrome. \n",
    "Create a function that returns True if a string is an almost-palindrome and False otherwise.'''\n",
    "\n",
    "def almost_palindrome(string):\n",
    "\n",
    "    fls = 0\n",
    "    for i in range(1,len(string)):\n",
    "        if i < len(string)/2:\n",
    "            if string[i-1] != string[-i]:\n",
    "                fls +=1\n",
    "    \n",
    "    res = 'True'\n",
    "    if fls>1:\n",
    "        res = 'False'\n",
    "    \n",
    "    return f\"almost_palindrome({string}) => {res}\"\n",
    "\n",
    "\n",
    "print(almost_palindrome('abcdcbg'))\n",
    "print(almost_palindrome('abccia'))\n",
    "print(almost_palindrome('abcdaaa'))\n",
    "print(almost_palindrome('1234312'))"
   ]
  },
  {
   "cell_type": "code",
   "execution_count": 65,
   "id": "b54d260b",
   "metadata": {},
   "outputs": [
    {
     "name": "stdout",
     "output_type": "stream",
     "text": [
      "prime_number(9) => 4\n",
      "prime_number(19) => 8\n",
      "prime_number(29) => 10\n"
     ]
    }
   ],
   "source": [
    "'''Q.3. Create a function that finds how many prime numbers there are, up to the given integer.'''\n",
    "\n",
    "def prime_number(n):\n",
    "    ctr = 0\n",
    "    \n",
    "    for num in range(n):\n",
    "        if num <= 1:\n",
    "            continue\n",
    "        for i in range(2, num):\n",
    "            if (num % i) == 0:\n",
    "                break\n",
    "        else:\n",
    "            ctr += 1\n",
    "                    \n",
    "    return f\"prime_number({num}) => {ctr}\"\n",
    "\n",
    "print(prime_number(10))\n",
    "print(prime_number(20))\n",
    "print(prime_number(30))\n",
    "     "
   ]
  },
  {
   "cell_type": "code",
   "execution_count": 24,
   "id": "4df63e39",
   "metadata": {},
   "outputs": [
    {
     "name": "stdout",
     "output_type": "stream",
     "text": [
      "after_n_days(['Monday', 'Thursday'], 4) => ['Friday', 'Monday']\n",
      "after_n_days(['Sunday', 'Sunday', 'Sunday'], 1) => ['Monday', 'Monday', 'Monday']\n",
      "after_n_days(['Monday', 'Tuseday', 'Friday'], 1) => ['Tuseday', 'Wednesday', 'Saturday']\n"
     ]
    }
   ],
   "source": [
    "'''Q.4. If today was Monday, in two days, it would be Wednesday. Create a function that takes in a list of days as \n",
    "input and the number of days to increment by. Return a list of days after n number of days has passed.'''\n",
    "\n",
    "def after_n_days(dayList, timeSpan):\n",
    "    \n",
    "    list1 = []\n",
    "    days = ['Sunday', 'Monday','Tuseday','Wednesday','Thursday','Friday','Saturday']\n",
    "    for i in dayList:\n",
    "        indx = days.index(i) \n",
    "        time = (indx + timeSpan) \n",
    "        if time <7:\n",
    "            day = days[time]\n",
    "            list1.append(day)\n",
    "        else:\n",
    "            mod_day = time%7\n",
    "            day = days[mod_day]\n",
    "            list1.append(day)\n",
    "        \n",
    "    return f\"after_n_days({dayList}, {timeSpan}) => {list1}\"\n",
    "\n",
    "\n",
    "print(after_n_days(['Monday','Thursday'],4))\n",
    "print(after_n_days(['Sunday','Sunday','Sunday'],1))\n",
    "print(after_n_days(['Monday','Tuseday','Friday'],1))\n"
   ]
  },
  {
   "cell_type": "code",
   "execution_count": 1,
   "id": "6c5c749c",
   "metadata": {},
   "outputs": [
    {
     "name": "stdout",
     "output_type": "stream",
     "text": [
      "is_correct_aliases(['Adrian M.', 'Harriet S.', 'Mandy T.']\n",
      ", ['Amazing Artichoke', 'Hopeful Hedgehog', 'Marvelous Mouse']) => True\n",
      "is_correct_aliases(['Rachel F.', 'Pam G.', 'Fred Z.', 'Nancy K.']\n",
      ", ['Reassuring Rat', 'Peaceful Panda', 'Fantastic Frog', 'Notable Nickel']) => True\n",
      "is_correct_aliases(['Beth T.']\n",
      ", ['Brandishing Mimosa']) => False\n"
     ]
    }
   ],
   "source": [
    "'''Q.5 You are in the process of creating a chat application and want to add an anonymous name feature. \n",
    "This anonymous name feature will create an alias that consists of two capitalized words beginning with the same letter as the\n",
    "users first name.Create a function that determines if the list of users is mapped to a list of anonymous names correctly.'''\n",
    "\n",
    "def is_correct_aliases(anmsList, orgList):\n",
    "    \n",
    "    res = 'False'\n",
    "    for i in range(len(orgList)):\n",
    "        name = orgList[i].split(' ')\n",
    "        if name[0][0] == name[1][0] == anmsList[i][0]:\n",
    "            res = 'True'\n",
    "            \n",
    "    return f\"is_correct_aliases({anmsList}\\n, {orgList}) => {res}\"\n",
    "\n",
    "print(is_correct_aliases([\"Adrian M.\", \"Harriet S.\", \"Mandy T.\"], [\"Amazing Artichoke\", \"Hopeful Hedgehog\", \"Marvelous Mouse\"]))\n",
    "\n",
    "print(is_correct_aliases([\"Rachel F.\", \"Pam G.\", \"Fred Z.\", \"Nancy K.\"],\n",
    "[\"Reassuring Rat\", \"Peaceful Panda\", \"Fantastic Frog\", \"Notable Nickel\"]))\n",
    "\n",
    "print(is_correct_aliases([\"Beth T.\"], [\"Brandishing Mimosa\"]))"
   ]
  },
  {
   "cell_type": "code",
   "execution_count": null,
   "id": "712dae8e",
   "metadata": {},
   "outputs": [],
   "source": []
  }
 ],
 "metadata": {
  "kernelspec": {
   "display_name": "Python 3 (ipykernel)",
   "language": "python",
   "name": "python3"
  },
  "language_info": {
   "codemirror_mode": {
    "name": "ipython",
    "version": 3
   },
   "file_extension": ".py",
   "mimetype": "text/x-python",
   "name": "python",
   "nbconvert_exporter": "python",
   "pygments_lexer": "ipython3",
   "version": "3.9.7"
  }
 },
 "nbformat": 4,
 "nbformat_minor": 5
}
