{
 "cells": [
  {
   "cell_type": "code",
   "execution_count": 20,
   "id": "3ab243f0",
   "metadata": {},
   "outputs": [
    {
     "name": "stdout",
     "output_type": "stream",
     "text": [
      "show_the_love([4, 1, 4, 8]) ----> [3.0, 5.0, 3.0, 6.0]\n",
      "show_the_love([16, 10, 8]) ----> [12.0, 7.5, 14.5]\n",
      "show_the_love([2, 0, 100, 1]) ----> [1.5, 25.75, 75.0, 0.75]\n"
     ]
    }
   ],
   "source": [
    "'''Q1. Given a list of numbers, create a function that removes 25% from every number in the list except the \n",
    "smallest number, and adds the total amount removed to the smallest number.'''\n",
    "\n",
    "def show_the_love(list1):\n",
    "    '''Remove 25% from every number in the list except the smallest number\n",
    "    Add the total amount removed to the smallest number'''\n",
    "    \n",
    "    list2 = []\n",
    "    n_sum = 0\n",
    "    for i in list1:\n",
    "        if i != min(list1):\n",
    "            new_num = i - i*0.25\n",
    "            list2.append(new_num)\n",
    "            n_sum = n_sum + i*0.25   \n",
    "    \n",
    "    min_value = min(list1)    \n",
    "    min_index = list1.index(min_value)\n",
    "    list2.insert(min_index, min_value + n_sum)\n",
    "    \n",
    "    return f'show_the_love({list1}) ----> {list2}'\n",
    "\n",
    "print(show_the_love([4,1,4,8]))\n",
    "print(show_the_love([16,10,8]))\n",
    "print(show_the_love([2,0,100,1]))"
   ]
  },
  {
   "cell_type": "code",
   "execution_count": 37,
   "id": "52b591f4",
   "metadata": {},
   "outputs": [
    {
     "name": "stdout",
     "output_type": "stream",
     "text": [
      "letters(sharp, soap) -----> [aps, hr, o]\n",
      "letters(board, bored) -----> [bdor, a, e]\n",
      "letters(happiness, envelope) -----> [enp, ahis, lov]\n",
      "letters(kerfuffle, fluffy) -----> [flu, ekr, y]\n"
     ]
    }
   ],
   "source": [
    "'''Q.2 Create a function that takes in two words as input and returns a list of three elements, in the following order:\n",
    "1.Shared letters between two words.    2.Letters unique to word 1.    3.Letters unique to word 2.\n",
    "Each element should have unique letters, and have each letter be alphabetically sorted.'''\n",
    "\n",
    "def letters(word1, word2):\n",
    "    ''' takes in two words as input and returns a list of three elements\n",
    "    1.Shared letters between two words.\n",
    "    2.Letters unique to word 1.    \n",
    "    3.Letters unique to word 2.'''\n",
    "    \n",
    "    res1 = ''\n",
    "    res2 = ''\n",
    "    res3 = ''\n",
    "    for i in sorted(set(word1)):\n",
    "        if i in word2:\n",
    "            res1 = res1 + i\n",
    "        elif i not in word2:\n",
    "            res2 = res2 + i\n",
    "    \n",
    "    for i in sorted(set(word2)):\n",
    "        if i not in res1:\n",
    "            res3 = res3 + i\n",
    "            \n",
    "    return f'letters({word1}, {word2}) -----> [{res1}, {res2}, {res3}]'\n",
    "\n",
    "print(letters('sharp', 'soap'))\n",
    "print(letters('board', 'bored'))\n",
    "print(letters('happiness', 'envelope'))\n",
    "print(letters('kerfuffle', 'fluffy'))"
   ]
  },
  {
   "cell_type": "code",
   "execution_count": 193,
   "id": "e2ca3638",
   "metadata": {},
   "outputs": [
    {
     "name": "stdout",
     "output_type": "stream",
     "text": [
      "[1, 2, 3, 4, 5, 6, 7] ----> [[1, 7], [2, 6], [3, 5], [4, 4]]\n",
      "[1, 2, 3, 4, 5, 6] ----> [[1, 6], [2, 5], [3, 4]]\n",
      "[5, 9, 8, 1, 2] ----> [[5, 2], [9, 1], [8, 8]]\n",
      "[] ----> []\n"
     ]
    }
   ],
   "source": [
    "'''Q.3 Write a function that pairs the first number in an array with the last, the second number with the second to last, etc.'''\n",
    "\n",
    "def pairs(list1):\n",
    "    '''pairs the first number in an array with the last, the second number with the second to last'''\n",
    "    \n",
    "    list2 = []\n",
    "    n = len(list1)\n",
    "    if n%2 == 0:\n",
    "        for i in range(n//2):\n",
    "            list2.append([list1[i], list1[(n-1)-i]])\n",
    "    else:\n",
    "        for i in range(n//2 + 1):\n",
    "            list2.append([list1[i], list1[(n-1)-i]])\n",
    "\n",
    "\n",
    "    return f'pairs({list1}) ----> {list2}'\n",
    "\n",
    "print(pairs([1,2,3,4,5,6,7]))\n",
    "print(pairs([1,2,3,4,5,6]))\n",
    "print(pairs([5,9,8,1,2]))\n",
    "print(pairs([]))"
   ]
  },
  {
   "cell_type": "code",
   "execution_count": 99,
   "id": "2c97e6d0",
   "metadata": {},
   "outputs": [
    {
     "name": "stdout",
     "output_type": "stream",
     "text": [
      "add_str_nums(4, 5) ----> \"9\" \n",
      "add_str_nums(abcdef, 3) ----> \"-1\" \n",
      "add_str_nums(, 5) ----> \"5\" \n",
      "add_str_nums(1, ) ----> \"1\" \n",
      "add_str_nums(1874682736267235927359283579235789257, 32652983572985729) ----> \"1874682736267235927391936562808774986\" \n"
     ]
    }
   ],
   "source": [
    "'''Q.4 Write a function that adds two numbers. The catch, however, is that the numbers will be strings.'''\n",
    "\n",
    "def add_str_nums(num1, num2):\n",
    "    '''adds two numbers. The catch, however, is that the numbers will be strings'''\n",
    "    \n",
    "    if num2 == \"\":\n",
    "        result = int(num1)\n",
    "    elif num1 == \"\":\n",
    "        result = int(num2)\n",
    "    else:\n",
    "        try:\n",
    "            if type(int(num1)) == type(int(num2)) == int:    \n",
    "                num11 = int(num1)\n",
    "                num22 = int(num2)\n",
    "                if num11 > num22:\n",
    "                    result = num11 + num22\n",
    "                else:\n",
    "                    result = num22 + num11\n",
    "\n",
    "        except ValueError:\n",
    "            result = -1\n",
    "\n",
    "    return f'add_str_nums({num1}, {num2}) ----> \"{result}\" '\n",
    "\n",
    "print(add_str_nums('4','5'))\n",
    "print(add_str_nums('abcdef','3'))\n",
    "print(add_str_nums(\"\",'5'))\n",
    "print(add_str_nums('1',\"\"))\n",
    "print(add_str_nums('1874682736267235927359283579235789257','32652983572985729'))"
   ]
  },
  {
   "cell_type": "code",
   "execution_count": 177,
   "id": "c2e80806",
   "metadata": {},
   "outputs": [
    {
     "name": "stdout",
     "output_type": "stream",
     "text": [
      "123456 ----> 214365\n",
      "hTsii  s aimex dpus rtni.g ----> This is a mixed up string.\n",
      "badce ----> abcde\n"
     ]
    }
   ],
   "source": [
    "'''Q.5 lPaeesh le pemu mnxit ehess rtnisg! Oh, sorry, that was supposed to say: Please help me unmix these strings!\n",
    "Somehow my strings have all become mixed up; every pair of characters has been swapped. Help me undo this \n",
    "so I can understand my strings again.'''\n",
    "\n",
    "def unmix(str1):\n",
    "    '''unmix the string'''\n",
    "    \n",
    "    l1 = list(str1)\n",
    "    l2 = []\n",
    "    for i in range(0, len(l1),2):\n",
    "        l2.append(l1[i:i+2][::-1])\n",
    "    \n",
    "    res = ''\n",
    "    for i in l2:\n",
    "        for j in i:\n",
    "            res = res + j\n",
    "        \n",
    "    return f'{str1} ----> {res}'\n",
    "\n",
    "\n",
    "print(unmix('123456'))\n",
    "print(unmix(\"hTsii  s aimex dpus rtni.g\"))\n",
    "print(unmix('badce'))"
   ]
  }
 ],
 "metadata": {
  "kernelspec": {
   "display_name": "Python 3",
   "language": "python",
   "name": "python3"
  },
  "language_info": {
   "codemirror_mode": {
    "name": "ipython",
    "version": 3
   },
   "file_extension": ".py",
   "mimetype": "text/x-python",
   "name": "python",
   "nbconvert_exporter": "python",
   "pygments_lexer": "ipython3",
   "version": "3.8.8"
  }
 },
 "nbformat": 4,
 "nbformat_minor": 5
}
