{
 "cells": [
  {
   "cell_type": "code",
   "execution_count": 4,
   "id": "047f563b",
   "metadata": {},
   "outputs": [
    {
     "name": "stdout",
     "output_type": "stream",
     "text": [
      "fib_fast(5) => 5\n",
      "fib_fast(10) => 55\n",
      "fib_fast(20) => 6765\n",
      "fib_fast(50) => 12586269025\n"
     ]
    }
   ],
   "source": [
    "'''Q.1 In mathematics, the Fibonacci numbers, commonly denoted Fn, form a sequence, called the Fibonacci sequence, \n",
    "such that each number is the sum of the two preceding ones, starting from 0 and 1:'''\n",
    "\n",
    "def fib_fast(n):\n",
    "    '''Fibonacci sequence'''\n",
    "    \n",
    "    f0 = 0\n",
    "    f1 = 1\n",
    "    for i in range(0,n-1):\n",
    "        f0, f1 = f1, f0+f1\n",
    "        \n",
    "    return f'fib_fast({n}) => {f1}'\n",
    "\n",
    "print(fib_fast(5))\n",
    "print(fib_fast(10))\n",
    "print(fib_fast(20))\n",
    "print(fib_fast(50))"
   ]
  },
  {
   "cell_type": "code",
   "execution_count": 52,
   "id": "768e5f89",
   "metadata": {},
   "outputs": [
    {
     "name": "stdout",
     "output_type": "stream",
     "text": [
      "convert_to_hex(hello world) => 68 65 6c 6c 6f 20 77 6f 72 6c 64 \n",
      "convert_to_hex(Big Boi) => 42 69 67 20 42 6f 69 \n",
      "convert_to_hex(Marty Poppinson) => 4d 61 72 74 79 20 50 6f 70 70 69 6e 73 6f 6e \n"
     ]
    }
   ],
   "source": [
    "'''Q.2 Create a function that takes a strings characters as ASCII and returns each characters hexadecimal value as a string.'''\n",
    "\n",
    "def convert_to_hex(string):\n",
    "    '''takes a strings characters as ASCII and returns each characters hexadecimal value as a string'''\n",
    "    \n",
    "    res = ''\n",
    "    for i in string:\n",
    "        asci = ord(i) \n",
    "        res = res + str(hex(asci)[2::]) + ' '\n",
    "        \n",
    "    return f'convert_to_hex({string}) => {res}'\n",
    "\n",
    "print(convert_to_hex('hello world'))\n",
    "print(convert_to_hex('Big Boi'))\n",
    "print(convert_to_hex('Marty Poppinson'))\n",
    "        "
   ]
  },
  {
   "cell_type": "code",
   "execution_count": 19,
   "id": "bc3b7980",
   "metadata": {},
   "outputs": [
    {
     "name": "stdout",
     "output_type": "stream",
     "text": [
      "uncensor(Wh*r* d*d my v*w*ls g*?, eeioeo) => Where did my vowels go?\n",
      "uncensor(abcd, ) => abcd\n",
      "uncensor(*PP*RC*S*, UEAE) => UPPERCASE\n"
     ]
    }
   ],
   "source": [
    "'''Q.3 Someone has attempted to censor my strings by replacing every vowel with a *, l*k* th*s. \n",
    "Luckily, I&#39;ve been able to find the vowels that were removed.\n",
    "Given a censored string and a string of the censored vowels, return the original uncensored string.'''\n",
    "\n",
    "def uncensor(str1, vowels):\n",
    "    '''censored string and a string of the censored vowels, return the original uncensored string'''\n",
    "    \n",
    "    res = ''\n",
    "    count = 0\n",
    "    for i in str1:\n",
    "        if i == '*':\n",
    "            res = res + vowels[count]\n",
    "            count = count + 1\n",
    "        \n",
    "        else:\n",
    "            res = res + i\n",
    "                \n",
    "    return f'uncensor({str1}, {vowels}) => {res}'\n",
    "\n",
    "print(uncensor('Wh*r* d*d my v*w*ls g*?', 'eeioeo'))\n",
    "print(uncensor('abcd', ''))\n",
    "print(uncensor('*PP*RC*S*', 'UEAE'))"
   ]
  },
  {
   "cell_type": "code",
   "execution_count": 51,
   "id": "8a41ee00",
   "metadata": {},
   "outputs": [
    {
     "name": "stdout",
     "output_type": "stream",
     "text": [
      "get_domain(8.8.8.8) => dns.google\n",
      "get_domain(8.8.4.4) => dns.google\n"
     ]
    }
   ],
   "source": [
    "'''Q.4 Write a function that takes an IP address and returns the domain name using PTR DNS records.'''\n",
    "\n",
    "def get_domain(ip_address):\n",
    "    '''takes an IP address and returns the domain name using PTR DNS records'''\n",
    "    \n",
    "    import socket\n",
    "    result=socket.gethostbyaddr(ip_address)\n",
    "    res = list(result)[0]\n",
    "    \n",
    "    return f'get_domain({ip_address}) => {res}'\n",
    "\n",
    "print(get_domain(\"8.8.8.8\"))\n",
    "print(get_domain(\"8.8.4.4\"))"
   ]
  },
  {
   "cell_type": "code",
   "execution_count": 50,
   "id": "a464e5ef",
   "metadata": {},
   "outputs": [
    {
     "name": "stdout",
     "output_type": "stream",
     "text": [
      "fact_of_fact(4) => 288\n",
      "fact_of_fact(5) => 34560\n",
      "fact_of_fact(6) => 24883200\n"
     ]
    }
   ],
   "source": [
    "'''Q.5 Create a function that takes an integer n and returns the factorial of factorials '''\n",
    "\n",
    "def fact_of_fact(n):\n",
    "    '''Factorial of Factorial of a integer'''\n",
    "    def fact(n):\n",
    "        if n<= 1:\n",
    "            return 1\n",
    "        return n*fact(n-1)\n",
    "    \n",
    "    fac = 1\n",
    "    for i in range(1,n+1):\n",
    "        fac = fac * fact(i)\n",
    "    return f'fact_of_fact({n}) => {fac}'\n",
    "\n",
    "print(fact_of_fact(4))\n",
    "print(fact_of_fact(5))\n",
    "print(fact_of_fact(6))\n"
   ]
  }
 ],
 "metadata": {
  "kernelspec": {
   "display_name": "Python 3",
   "language": "python",
   "name": "python3"
  },
  "language_info": {
   "codemirror_mode": {
    "name": "ipython",
    "version": 3
   },
   "file_extension": ".py",
   "mimetype": "text/x-python",
   "name": "python",
   "nbconvert_exporter": "python",
   "pygments_lexer": "ipython3",
   "version": "3.8.8"
  }
 },
 "nbformat": 4,
 "nbformat_minor": 5
}
