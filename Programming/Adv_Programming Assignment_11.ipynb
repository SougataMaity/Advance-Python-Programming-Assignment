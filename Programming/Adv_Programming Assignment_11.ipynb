{
 "cells": [
  {
   "cell_type": "code",
   "execution_count": 30,
   "id": "a59fe5e0",
   "metadata": {},
   "outputs": [
    {
     "name": "stdout",
     "output_type": "stream",
     "text": [
      "filter_prime([7, 9, 3, 9, 10, 11, 27]) => [7, 3, 11]\n",
      "filter_prime([10007, 1009, 1007, 27, 147, 77, 1001, 70]) => [10007, 1009]\n",
      "filter_prime([1009, 10, 10, 10, 3, 33, 9, 4, 1, 61, 63, 69, 1087, 1091, 1093, 1097]) => [1009, 3, 61, 1087, 1091, 1093, 1097]\n"
     ]
    }
   ],
   "source": [
    "'''Q.1 1. Create a function that takes a list and returns a new list containing only prime numbers.'''\n",
    "\n",
    "def filter_primes(list1):\n",
    "    prime = []\n",
    "    for i in list1:\n",
    "        c = 0\n",
    "        for j in range(1,i):\n",
    "            if i%j == 0:\n",
    "                c +=1\n",
    "\n",
    "        if c==1:\n",
    "            prime.append(i)\n",
    "                \n",
    "    return f\"filter_prime({list1}) => {prime}\"\n",
    "                \n",
    "print(filter_primes([7, 9, 3, 9, 10, 11, 27]))\n",
    "print(filter_primes([10007, 1009, 1007, 27, 147, 77, 1001, 70]))\n",
    "print(filter_primes([1009, 10, 10, 10, 3, 33, 9, 4, 1, 61, 63, 69, 1087, 1091, 1093, 1097]))"
   ]
  },
  {
   "cell_type": "code",
   "execution_count": 18,
   "id": "65a2b1c9",
   "metadata": {},
   "outputs": [
    {
     "name": "stdout",
     "output_type": "stream",
     "text": [
      "pop([0, 0, 0, 0, 4, 0, 0, 0, 0]) => [0, 1, 2, 3, 4, 3, 2, 1, 0]\n",
      "pop([0, 0, 0, 3, 0, 0, 0]) => [0, 1, 2, 3, 2, 1, 0]\n",
      "pop([0, 0, 2, 0, 0]) => [0, 1, 2, 1, 0]\n",
      "pop([0]) => [0]\n"
     ]
    }
   ],
   "source": [
    "'''Q.2 Once a water balloon pops, is soaks the area around it. The ground gets drier the further away you travel from the\n",
    "balloon.The effect of a water balloon popping can be modeled using a list. Create a function that takes a list which takes\n",
    "the pre-pop state and returns the state after the balloon is popped. The pre-pop state will contain at most a single balloon, \n",
    "whose size is represented by the only non-zero element.'''\n",
    "\n",
    "def pop(list11):\n",
    "    n = 0\n",
    "    for i in list11:\n",
    "        if i != 0:\n",
    "            n += i\n",
    "            \n",
    "    list1 = [x for x in range(0,n)]\n",
    "    list2 = [x for x in range (0,n+1)]\n",
    "    res = list2 + list1[::-1]\n",
    "    \n",
    "    return f\"pop({list11}) => {res}\"\n",
    "\n",
    "print(pop([0,0,0,0,4,0,0,0,0]))\n",
    "print(pop([0,0,0,3,0,0,0]))\n",
    "print(pop([0, 0, 2, 0, 0]))\n",
    "print(pop([0]))"
   ]
  },
  {
   "cell_type": "code",
   "execution_count": 5,
   "id": "fed54e3f",
   "metadata": {},
   "outputs": [
    {
     "name": "stdout",
     "output_type": "stream",
     "text": [
      "loves_me(3) => ['Love me', 'Love me not', 'LOVE ME']\n",
      "loves_me(6) => ['Love me', 'Love me not', 'Love me', 'Love me not', 'Love me', 'LoVE ME NOT']\n",
      "loves_me(1) => ['LOVE ME']\n"
     ]
    }
   ],
   "source": [
    "'''Q.3 \"Loves me, loves me not\" is a traditional game in which a person plucks off all the petals of a flower one by one, \n",
    "saying the phrase \"Loves me\" and \"Loves me not\" when determining whether the one that they love, loves them back. Given a \n",
    "number of petals, return a string which repeats the phrases \"Loves me\" and \"Loves me not\" for every alternating petal, \n",
    "and return the last phrase in all caps. Remember to put a comma and space between phrases.'''\n",
    "\n",
    "def love_me(num):\n",
    "    list1 = []\n",
    "    \n",
    "    for i in range(1,num+1):\n",
    "        if i%2 != 0:\n",
    "            if i == num:\n",
    "                list1.append('LOVE ME')\n",
    "            else:\n",
    "                list1.append('Love me')\n",
    "                \n",
    "        else:\n",
    "            if i == num:\n",
    "                list1.append('LOVE ME NOT')\n",
    "            else:\n",
    "                list1.append('Love me not')\n",
    "            \n",
    "    return f\"loves_me({num}) => {list1}\"\n",
    "\n",
    "print(love_me(3))\n",
    "print(love_me(6))\n",
    "print(love_me(1))"
   ]
  },
  {
   "cell_type": "code",
   "execution_count": 11,
   "id": "224f587f",
   "metadata": {},
   "outputs": [
    {
     "name": "stdout",
     "output_type": "stream",
     "text": [
      "sort_by_letter(['932c', '832u32', '2344b']) => ['2344b', '932c', '832u32']\n",
      "sort_by_letter(['99a', '78b', 'c2345', '11d']) => ['99a', '78b', 'c2345', '11d']\n",
      "sort_by_letter(['572z', '5y5', '304q2']) => ['304q2', '5y5', '572z']\n"
     ]
    }
   ],
   "source": [
    "'''Q.4 Write a function that sorts each stringin a list by the letter in alphabetic ascending order (a-z).'''\n",
    "\n",
    "#pip install re101\n",
    "import re\n",
    "def sort_by_letter(list1):\n",
    "    \n",
    "    list2 = []\n",
    "    for i in list1:\n",
    "        res = re.sub(r'[^a-zA-Z]', '', i)\n",
    "        list2.append(res)\n",
    "        \n",
    "    res = dict(zip(list1, list2))\n",
    "    marklist = sorted(res.items(), key=lambda x:x[1])\n",
    "    sort_dict = dict(marklist)\n",
    "    \n",
    "    value =  list(sort_dict.keys())\n",
    "    return f\"sort_by_letter({list1}) => {value}\"\n",
    "\n",
    "print(sort_by_letter([\"932c\", \"832u32\", \"2344b\"]))\n",
    "print(sort_by_letter([\"99a\", \"78b\", \"c2345\", \"11d\"]))\n",
    "print(sort_by_letter([\"572z\", \"5y5\", \"304q2\"]))"
   ]
  },
  {
   "cell_type": "code",
   "execution_count": 31,
   "id": "f9f06123",
   "metadata": {},
   "outputs": [
    {
     "name": "stdout",
     "output_type": "stream",
     "text": [
      "cup_swapping(['AB', 'CA', 'AB']) => C\n"
     ]
    }
   ],
   "source": [
    "'''Q.5 There are three cups on a table, at positions A, B, and C. At the start, there is a ball hidden under the cup at \n",
    "position B.However, I perform several swaps on the cups, which is notated as two letters. For example, if I swap the cups at \n",
    "positions A and B, I could notate this as AB or BA.Create a function that returns the letter position that the ball is at, \n",
    "once I finish swapping the cups. The swaps will be given to you as a list.'''\n",
    "\n",
    "def cup_swapping(list1):\n",
    "    list2 = []\n",
    "    for i in list1:\n",
    "        for j in i:\n",
    "            list2.append(j)\n",
    "            \n",
    "    for i in list2:\n",
    "        if list2.count(i)==1:\n",
    "            return f\"cup_swapping({list1}) => {i}\"\n",
    "        \n",
    "print(cup_swapping([\"AB\", \"CA\", \"AB\"]))"
   ]
  }
 ],
 "metadata": {
  "kernelspec": {
   "display_name": "Python 3 (ipykernel)",
   "language": "python",
   "name": "python3"
  },
  "language_info": {
   "codemirror_mode": {
    "name": "ipython",
    "version": 3
   },
   "file_extension": ".py",
   "mimetype": "text/x-python",
   "name": "python",
   "nbconvert_exporter": "python",
   "pygments_lexer": "ipython3",
   "version": "3.9.7"
  }
 },
 "nbformat": 4,
 "nbformat_minor": 5
}
