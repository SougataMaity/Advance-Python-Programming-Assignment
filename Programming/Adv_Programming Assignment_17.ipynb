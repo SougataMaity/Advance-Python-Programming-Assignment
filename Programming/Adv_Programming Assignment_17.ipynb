{
 "cells": [
  {
   "cell_type": "code",
   "execution_count": 19,
   "id": "1d8db4a3",
   "metadata": {},
   "outputs": [
    {
     "name": "stdout",
     "output_type": "stream",
     "text": [
      "transpose_matrix\n",
      "Question\n",
      "[[1 1 1]\n",
      " [2 2 2]\n",
      " [3 3 3]]\n",
      "Answer\n",
      "[[1 2 3]\n",
      " [1 2 3]\n",
      " [1 2 3]]\n"
     ]
    }
   ],
   "source": [
    "'''Q.1 Create a function that transposes a 2D matrix.'''\n",
    "\n",
    "import numpy\n",
    "def transpose_matrix(two_d_array):\n",
    "    res = numpy.transpose(two_d_array)\n",
    "    return f\"transpose_matrix\\nQuestion\\n{numpy.array(two_d_array)}\\nAnswer\\n{res}\"\n",
    "\n",
    "print(transpose_matrix([[1,1,1],[2,2,2],[3,3,3]]))"
   ]
  },
  {
   "cell_type": "code",
   "execution_count": 7,
   "id": "221ddd49",
   "metadata": {},
   "outputs": [
    {
     "name": "stdout",
     "output_type": "stream",
     "text": [
      "is_valid_hex_code(#CD5C5C) => True\n",
      "is_valid_hex_code(#CD5C58C) => Flase\n",
      "is_valid_hex_code(#eaecee) => True\n",
      "is_valid_hex_code(#CD5C&C) => Flase\n",
      "is_valid_hex_code(#eaecee) => True\n",
      "is_valid_hex_code(#CD5ZC5) => Flase\n"
     ]
    }
   ],
   "source": [
    "'''Q.2. Create a function that determines whether a string is a valid hex code. A hex code must begin with a pound key # \n",
    "and is exactly 6 characters in length. Each character must be a digit from 0-9 or an alphabetic character from A-F. \n",
    "All alphabetic characters may be uppercase or lowercase.'''\n",
    "\n",
    "import string\n",
    "def is_valid_hex_code(code):\n",
    "    condition1 = string.digits\n",
    "    condition2 = string.ascii_lowercase[:6] + string.ascii_uppercase[:6]\n",
    "    condition = condition1 + condition2\n",
    "    d = 0\n",
    "    result = \"Flase\"\n",
    "    if code[0] == '#':\n",
    "        if len(code[1::]) == 6:\n",
    "            for i in range(1, len(code)):\n",
    "                if code[i] in condition:\n",
    "                    d = d + 1\n",
    "    \n",
    "    if d == 6:\n",
    "        result = \"True\"\n",
    "    return f\"is_valid_hex_code({code}) => {result}\"\n",
    "\n",
    "print(is_valid_hex_code('#CD5C5C'))\n",
    "print(is_valid_hex_code('#CD5C58C'))\n",
    "print(is_valid_hex_code('#eaecee'))\n",
    "print(is_valid_hex_code('#CD5C&C'))\n",
    "print(is_valid_hex_code('#eaecee'))\n",
    "print(is_valid_hex_code('#CD5ZC5'))"
   ]
  },
  {
   "cell_type": "code",
   "execution_count": 12,
   "id": "122367c2",
   "metadata": {},
   "outputs": [
    {
     "name": "stdout",
     "output_type": "stream",
     "text": [
      "mark_math(['2+2=4', '3+2=5', '10-3=3', '5+5=10']) => 75%\n",
      "mark_math(['1-2=2']) => 0%\n",
      "mark_math(['2+3=5', '4+4=9', '3-1=2']) => 67%\n"
     ]
    }
   ],
   "source": [
    "'''Q3. Given a list of math equations (given as strings), return the percentage of correct answers as a string. \n",
    "Round to the nearest whole number.'''\n",
    "\n",
    "import re\n",
    "def mark_math(list1):\n",
    "    res = 0\n",
    "    for i in list1:\n",
    "        if '+' in i:\n",
    "            split = re.split(\"[+=]\",i)\n",
    "            tools = int(split[0]) + int(split[1])\n",
    "            if tools == int(split[2]):\n",
    "                res = res + 1\n",
    "        elif '-' in i:\n",
    "            split = re.split(\"[-=]\",i)\n",
    "            tools = int(split[0]) - int(split[1])\n",
    "            if tools == int(split[2]):\n",
    "                res = res + 1\n",
    "                \n",
    "    result = (res/len(list1))*100\n",
    "    return f\"mark_math({list1}) => {round(result)}%\"\n",
    "\n",
    "print(mark_math([\"2+2=4\", \"3+2=5\", \"10-3=3\", \"5+5=10\"]))\n",
    "print(mark_math([\"1-2=2\"]))\n",
    "print(mark_math([\"2+3=5\", \"4+4=9\", \"3-1=2\"]))"
   ]
  },
  {
   "cell_type": "code",
   "execution_count": 5,
   "id": "6ad4387d",
   "metadata": {},
   "outputs": [
    {
     "name": "stdout",
     "output_type": "stream",
     "text": [
      "magic_square_game([2, '100'], [1, '101']) => False\n",
      "magic_square_game([2, '001'], [1, '101']) => True\n",
      "magic_square_game([3, '111'], [2, '011']) => True\n",
      "magic_square_game([1, '010'], [3, '101']) => False\n"
     ]
    }
   ],
   "source": [
    "'''Q.4 There are two players, Alice and Bob, each with a 3-by-3 grid. A referee tells Alice to fill out one particular row \n",
    "in the grid (say the second row) byb putting either a 1 or a 0 in each box, such that the sum of the numbers in that\n",
    "row is odd. The referee tells Bob to fill out one column in the grid (say the first column) by putting either a 1 or a 0 \n",
    "in each box, such that the sum of the numbers in that column is even. Alice and Bob win the game if Alice’s numbers give \n",
    "an odd sum, Bob’s give an even sum, and (most important) they’ve each written down the same number in the one square \n",
    "where their row and column intersect.'''\n",
    "\n",
    "def magic_squre_game(list1, list2):\n",
    "    row = list1[0]\n",
    "    column = list2[0]\n",
    "    \n",
    "    res = 'False'\n",
    "    if list1[1][column-1] == list2[1][row-1]:\n",
    "        res = 'True'\n",
    "    return f\"magic_square_game({list1}, {list2}) => {res}\"\n",
    "\n",
    "print(magic_squre_game([2,'100'],[1,'101']))\n",
    "print(magic_squre_game([2,'001'],[1,'101']))   \n",
    "print(magic_squre_game([3,'111'],[2,'011']))  \n",
    "print(magic_squre_game([1,'010'],[3,'101']))   "
   ]
  },
  {
   "cell_type": "code",
   "execution_count": null,
   "id": "a86163b6",
   "metadata": {},
   "outputs": [],
   "source": []
  }
 ],
 "metadata": {
  "kernelspec": {
   "display_name": "Python 3 (ipykernel)",
   "language": "python",
   "name": "python3"
  },
  "language_info": {
   "codemirror_mode": {
    "name": "ipython",
    "version": 3
   },
   "file_extension": ".py",
   "mimetype": "text/x-python",
   "name": "python",
   "nbconvert_exporter": "python",
   "pygments_lexer": "ipython3",
   "version": "3.9.7"
  }
 },
 "nbformat": 4,
 "nbformat_minor": 5
}
